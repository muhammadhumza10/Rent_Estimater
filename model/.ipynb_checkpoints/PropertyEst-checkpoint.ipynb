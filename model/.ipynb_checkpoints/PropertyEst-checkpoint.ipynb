{
 "cells": [
  {
   "cell_type": "code",
   "execution_count": 22,
   "id": "53e7fe63",
   "metadata": {},
   "outputs": [],
   "source": [
    "import pandas as pd\n",
    "import re\n",
    "import numpy as np\n",
    "from matplotlib import pyplot as plt\n",
    "%matplotlib inline\n",
    "import matplotlib\n",
    "matplotlib.rcParams[\"figure.figsize\"] =(20,10)"
   ]
  },
  {
   "cell_type": "code",
   "execution_count": 2,
   "id": "02a5b06f",
   "metadata": {},
   "outputs": [
    {
     "data": {
      "text/html": [
       "<div>\n",
       "<style scoped>\n",
       "    .dataframe tbody tr th:only-of-type {\n",
       "        vertical-align: middle;\n",
       "    }\n",
       "\n",
       "    .dataframe tbody tr th {\n",
       "        vertical-align: top;\n",
       "    }\n",
       "\n",
       "    .dataframe thead th {\n",
       "        text-align: right;\n",
       "    }\n",
       "</style>\n",
       "<table border=\"1\" class=\"dataframe\">\n",
       "  <thead>\n",
       "    <tr style=\"text-align: right;\">\n",
       "      <th></th>\n",
       "      <th>property_id</th>\n",
       "      <th>location_id</th>\n",
       "      <th>page_url</th>\n",
       "      <th>property_type</th>\n",
       "      <th>price</th>\n",
       "      <th>price_bin</th>\n",
       "      <th>location</th>\n",
       "      <th>city</th>\n",
       "      <th>province_name</th>\n",
       "      <th>locality</th>\n",
       "      <th>...</th>\n",
       "      <th>area_marla</th>\n",
       "      <th>area_sqft</th>\n",
       "      <th>purpose</th>\n",
       "      <th>bedrooms</th>\n",
       "      <th>date_added</th>\n",
       "      <th>year</th>\n",
       "      <th>month</th>\n",
       "      <th>day</th>\n",
       "      <th>agency</th>\n",
       "      <th>agent</th>\n",
       "    </tr>\n",
       "  </thead>\n",
       "  <tbody>\n",
       "    <tr>\n",
       "      <th>0</th>\n",
       "      <td>347795</td>\n",
       "      <td>8</td>\n",
       "      <td>https://www.zameen.com/Property/lahore_model_t...</td>\n",
       "      <td>House</td>\n",
       "      <td>220000000</td>\n",
       "      <td>Very High</td>\n",
       "      <td>Model Town</td>\n",
       "      <td>Lahore</td>\n",
       "      <td>Punjab</td>\n",
       "      <td>Model Town, Lahore, Punjab</td>\n",
       "      <td>...</td>\n",
       "      <td>120.0</td>\n",
       "      <td>32670.12</td>\n",
       "      <td>For Sale</td>\n",
       "      <td>0</td>\n",
       "      <td>07-17-2019</td>\n",
       "      <td>2019</td>\n",
       "      <td>7</td>\n",
       "      <td>17</td>\n",
       "      <td>Real Biz International</td>\n",
       "      <td>Usama Khan</td>\n",
       "    </tr>\n",
       "    <tr>\n",
       "      <th>1</th>\n",
       "      <td>482892</td>\n",
       "      <td>48</td>\n",
       "      <td>https://www.zameen.com/Property/lahore_multan_...</td>\n",
       "      <td>House</td>\n",
       "      <td>40000000</td>\n",
       "      <td>Very High</td>\n",
       "      <td>Multan Road</td>\n",
       "      <td>Lahore</td>\n",
       "      <td>Punjab</td>\n",
       "      <td>Multan Road, Lahore, Punjab</td>\n",
       "      <td>...</td>\n",
       "      <td>20.0</td>\n",
       "      <td>5445.02</td>\n",
       "      <td>For Sale</td>\n",
       "      <td>5</td>\n",
       "      <td>10-06-2018</td>\n",
       "      <td>2018</td>\n",
       "      <td>10</td>\n",
       "      <td>6</td>\n",
       "      <td>Khan Estate</td>\n",
       "      <td>mohsinkhan and B</td>\n",
       "    </tr>\n",
       "    <tr>\n",
       "      <th>2</th>\n",
       "      <td>555962</td>\n",
       "      <td>75</td>\n",
       "      <td>https://www.zameen.com/Property/eden_eden_aven...</td>\n",
       "      <td>House</td>\n",
       "      <td>9500000</td>\n",
       "      <td>Low</td>\n",
       "      <td>Eden</td>\n",
       "      <td>Lahore</td>\n",
       "      <td>Punjab</td>\n",
       "      <td>Eden, Lahore, Punjab</td>\n",
       "      <td>...</td>\n",
       "      <td>9.0</td>\n",
       "      <td>2450.26</td>\n",
       "      <td>For Sale</td>\n",
       "      <td>3</td>\n",
       "      <td>07-03-2019</td>\n",
       "      <td>2019</td>\n",
       "      <td>7</td>\n",
       "      <td>3</td>\n",
       "      <td>Shahum Estate 2</td>\n",
       "      <td>Babar Hameed, Raja Omar</td>\n",
       "    </tr>\n",
       "    <tr>\n",
       "      <th>3</th>\n",
       "      <td>562843</td>\n",
       "      <td>3821</td>\n",
       "      <td>https://www.zameen.com/Property/gulberg_2_gulb...</td>\n",
       "      <td>House</td>\n",
       "      <td>125000000</td>\n",
       "      <td>Very High</td>\n",
       "      <td>Gulberg</td>\n",
       "      <td>Lahore</td>\n",
       "      <td>Punjab</td>\n",
       "      <td>Gulberg, Lahore, Punjab</td>\n",
       "      <td>...</td>\n",
       "      <td>20.0</td>\n",
       "      <td>5445.02</td>\n",
       "      <td>For Sale</td>\n",
       "      <td>8</td>\n",
       "      <td>04-04-2019</td>\n",
       "      <td>2019</td>\n",
       "      <td>4</td>\n",
       "      <td>4</td>\n",
       "      <td>NaN</td>\n",
       "      <td>NaN</td>\n",
       "    </tr>\n",
       "    <tr>\n",
       "      <th>4</th>\n",
       "      <td>686990</td>\n",
       "      <td>3522</td>\n",
       "      <td>https://www.zameen.com/Property/allama_iqbal_t...</td>\n",
       "      <td>House</td>\n",
       "      <td>21000000</td>\n",
       "      <td>High</td>\n",
       "      <td>Allama Iqbal Town</td>\n",
       "      <td>Lahore</td>\n",
       "      <td>Punjab</td>\n",
       "      <td>Allama Iqbal Town, Lahore, Punjab</td>\n",
       "      <td>...</td>\n",
       "      <td>11.0</td>\n",
       "      <td>2994.76</td>\n",
       "      <td>For Sale</td>\n",
       "      <td>6</td>\n",
       "      <td>04-04-2019</td>\n",
       "      <td>2019</td>\n",
       "      <td>4</td>\n",
       "      <td>4</td>\n",
       "      <td>NaN</td>\n",
       "      <td>NaN</td>\n",
       "    </tr>\n",
       "  </tbody>\n",
       "</table>\n",
       "<p>5 rows × 24 columns</p>\n",
       "</div>"
      ],
      "text/plain": [
       "   property_id  location_id  \\\n",
       "0       347795            8   \n",
       "1       482892           48   \n",
       "2       555962           75   \n",
       "3       562843         3821   \n",
       "4       686990         3522   \n",
       "\n",
       "                                            page_url property_type      price  \\\n",
       "0  https://www.zameen.com/Property/lahore_model_t...         House  220000000   \n",
       "1  https://www.zameen.com/Property/lahore_multan_...         House   40000000   \n",
       "2  https://www.zameen.com/Property/eden_eden_aven...         House    9500000   \n",
       "3  https://www.zameen.com/Property/gulberg_2_gulb...         House  125000000   \n",
       "4  https://www.zameen.com/Property/allama_iqbal_t...         House   21000000   \n",
       "\n",
       "   price_bin           location    city province_name  \\\n",
       "0  Very High         Model Town  Lahore        Punjab   \n",
       "1  Very High        Multan Road  Lahore        Punjab   \n",
       "2        Low               Eden  Lahore        Punjab   \n",
       "3  Very High            Gulberg  Lahore        Punjab   \n",
       "4       High  Allama Iqbal Town  Lahore        Punjab   \n",
       "\n",
       "                            locality  ...  area_marla  area_sqft   purpose  \\\n",
       "0         Model Town, Lahore, Punjab  ...       120.0   32670.12  For Sale   \n",
       "1        Multan Road, Lahore, Punjab  ...        20.0    5445.02  For Sale   \n",
       "2               Eden, Lahore, Punjab  ...         9.0    2450.26  For Sale   \n",
       "3            Gulberg, Lahore, Punjab  ...        20.0    5445.02  For Sale   \n",
       "4  Allama Iqbal Town, Lahore, Punjab  ...        11.0    2994.76  For Sale   \n",
       "\n",
       "  bedrooms  date_added  year month  day                  agency  \\\n",
       "0        0  07-17-2019  2019     7   17  Real Biz International   \n",
       "1        5  10-06-2018  2018    10    6             Khan Estate   \n",
       "2        3  07-03-2019  2019     7    3         Shahum Estate 2   \n",
       "3        8  04-04-2019  2019     4    4                     NaN   \n",
       "4        6  04-04-2019  2019     4    4                     NaN   \n",
       "\n",
       "                     agent  \n",
       "0               Usama Khan  \n",
       "1         mohsinkhan and B  \n",
       "2  Babar Hameed, Raja Omar  \n",
       "3                      NaN  \n",
       "4                      NaN  \n",
       "\n",
       "[5 rows x 24 columns]"
      ]
     },
     "execution_count": 2,
     "metadata": {},
     "output_type": "execute_result"
    }
   ],
   "source": [
    "df1 = pd.read_csv(\"Property_with_Feature_Engineering.csv\")\n",
    "df1.head()"
   ]
  },
  {
   "cell_type": "code",
   "execution_count": 3,
   "id": "eb483282",
   "metadata": {},
   "outputs": [
    {
     "data": {
      "text/plain": [
       "(191393, 24)"
      ]
     },
     "execution_count": 3,
     "metadata": {},
     "output_type": "execute_result"
    }
   ],
   "source": [
    "df1.shape"
   ]
  },
  {
   "cell_type": "code",
   "execution_count": 52,
   "id": "2b8e576a",
   "metadata": {},
   "outputs": [
    {
     "data": {
      "text/plain": [
       "Index(['property_id', 'location_id', 'page_url', 'property_type', 'price',\n",
       "       'price_bin', 'location', 'city', 'province_name', 'locality',\n",
       "       'latitude', 'longitude', 'baths', 'area', 'area_marla', 'area_sqft',\n",
       "       'purpose', 'bedrooms', 'date_added', 'year', 'month', 'day', 'agency',\n",
       "       'agent'],\n",
       "      dtype='object')"
      ]
     },
     "execution_count": 52,
     "metadata": {},
     "output_type": "execute_result"
    }
   ],
   "source": [
    "df1.columns"
   ]
  },
  {
   "cell_type": "code",
   "execution_count": 13,
   "id": "6c6e7499",
   "metadata": {},
   "outputs": [
    {
     "data": {
      "text/plain": [
       "array(['Model Town', 'Multan Road', 'Eden', ..., 'Shabbir Town',\n",
       "       'Angori Scheme 1', 'Abid Road'], dtype=object)"
      ]
     },
     "execution_count": 13,
     "metadata": {},
     "output_type": "execute_result"
    }
   ],
   "source": [
    "df1['location'].unique()\n"
   ]
  },
  {
   "cell_type": "code",
   "execution_count": 6,
   "id": "095de71c",
   "metadata": {},
   "outputs": [
    {
     "data": {
      "text/plain": [
       "House            118915\n",
       "Flat              40157\n",
       "Upper Portion     18475\n",
       "Lower Portion     11693\n",
       "Room               1029\n",
       "Farm House          725\n",
       "Penthouse           399\n",
       "Name: property_type, dtype: int64"
      ]
     },
     "execution_count": 6,
     "metadata": {},
     "output_type": "execute_result"
    }
   ],
   "source": [
    "df1['property_type'].value_counts()"
   ]
  },
  {
   "cell_type": "code",
   "execution_count": 8,
   "id": "e5f3e3d5",
   "metadata": {},
   "outputs": [
    {
     "data": {
      "text/plain": [
       "(191393, 14)"
      ]
     },
     "execution_count": 8,
     "metadata": {},
     "output_type": "execute_result"
    }
   ],
   "source": [
    "df2 = df1.drop(['property_id', 'location_id', 'page_url','locality','latitude', 'longitude','date_added', 'year', 'month', 'day'],axis='columns')\n",
    "df2.shape"
   ]
  },
  {
   "cell_type": "code",
   "execution_count": 74,
   "id": "2e54a3ee",
   "metadata": {},
   "outputs": [
    {
     "data": {
      "text/plain": [
       "property_type        0\n",
       "price                0\n",
       "price_bin            0\n",
       "location             0\n",
       "city                 0\n",
       "province_name        0\n",
       "baths                0\n",
       "area                 0\n",
       "area_marla           0\n",
       "area_sqft            0\n",
       "purpose              0\n",
       "bedrooms             0\n",
       "agency           47379\n",
       "agent            47380\n",
       "dtype: int64"
      ]
     },
     "execution_count": 74,
     "metadata": {},
     "output_type": "execute_result"
    }
   ],
   "source": [
    "df2.isnull().sum()"
   ]
  },
  {
   "cell_type": "code",
   "execution_count": 11,
   "id": "7e440328",
   "metadata": {},
   "outputs": [
    {
     "data": {
      "text/plain": [
       "property_type\n",
       "Farm House          725\n",
       "Flat              40157\n",
       "House            118915\n",
       "Lower Portion     11693\n",
       "Penthouse           399\n",
       "Room               1029\n",
       "Upper Portion     18475\n",
       "Name: property_type, dtype: int64"
      ]
     },
     "execution_count": 11,
     "metadata": {},
     "output_type": "execute_result"
    }
   ],
   "source": [
    "df1.groupby('property_type')['property_type'].agg('count')"
   ]
  },
  {
   "cell_type": "code",
   "execution_count": 12,
   "id": "e0851c41",
   "metadata": {},
   "outputs": [
    {
     "data": {
      "text/plain": [
       "(191393, 14)"
      ]
     },
     "execution_count": 12,
     "metadata": {},
     "output_type": "execute_result"
    }
   ],
   "source": [
    "df2.shape"
   ]
  },
  {
   "cell_type": "code",
   "execution_count": 154,
   "id": "13e5e35e",
   "metadata": {},
   "outputs": [
    {
     "data": {
      "text/plain": [
       "property_type    0\n",
       "price            0\n",
       "price_bin        0\n",
       "location         0\n",
       "city             0\n",
       "province_name    0\n",
       "baths            0\n",
       "area             0\n",
       "area_marla       0\n",
       "area_sqft        0\n",
       "purpose          0\n",
       "bedrooms         0\n",
       "agency           0\n",
       "agent            0\n",
       "dtype: int64"
      ]
     },
     "execution_count": 154,
     "metadata": {},
     "output_type": "execute_result"
    }
   ],
   "source": [
    "df3 = df2.dropna()\n",
    "df3.isnull().sum()"
   ]
  },
  {
   "cell_type": "code",
   "execution_count": 155,
   "id": "1fbb183b",
   "metadata": {},
   "outputs": [
    {
     "data": {
      "text/plain": [
       "(144013, 14)"
      ]
     },
     "execution_count": 155,
     "metadata": {},
     "output_type": "execute_result"
    }
   ],
   "source": [
    "df3.shape"
   ]
  },
  {
   "cell_type": "code",
   "execution_count": 162,
   "id": "02be1cc8",
   "metadata": {},
   "outputs": [
    {
     "data": {
      "text/plain": [
       "property_type     object\n",
       "price              int64\n",
       "price_bin         object\n",
       "location          object\n",
       "city              object\n",
       "province_name     object\n",
       "baths              int64\n",
       "area              object\n",
       "area_marla       float64\n",
       "area_sqft        float64\n",
       "purpose           object\n",
       "bedrooms           int64\n",
       "agency            object\n",
       "agent             object\n",
       "size             float64\n",
       "size_cat          object\n",
       "dtype: object"
      ]
     },
     "execution_count": 162,
     "metadata": {},
     "output_type": "execute_result"
    }
   ],
   "source": [
    "df3.dtypes"
   ]
  },
  {
   "cell_type": "code",
   "execution_count": 159,
   "id": "4360a9e0",
   "metadata": {},
   "outputs": [
    {
     "name": "stderr",
     "output_type": "stream",
     "text": [
      "C:\\Users\\admin\\AppData\\Local\\Temp\\ipykernel_13592\\2106653274.py:1: SettingWithCopyWarning: \n",
      "A value is trying to be set on a copy of a slice from a DataFrame.\n",
      "Try using .loc[row_indexer,col_indexer] = value instead\n",
      "\n",
      "See the caveats in the documentation: https://pandas.pydata.org/pandas-docs/stable/user_guide/indexing.html#returning-a-view-versus-a-copy\n",
      "  df3[['size','size_cat']] = df3[\"area\"].apply(lambda x: pd.Series(str(x).split(\" \")))\n",
      "C:\\Users\\admin\\AppData\\Local\\Temp\\ipykernel_13592\\2106653274.py:1: SettingWithCopyWarning: \n",
      "A value is trying to be set on a copy of a slice from a DataFrame.\n",
      "Try using .loc[row_indexer,col_indexer] = value instead\n",
      "\n",
      "See the caveats in the documentation: https://pandas.pydata.org/pandas-docs/stable/user_guide/indexing.html#returning-a-view-versus-a-copy\n",
      "  df3[['size','size_cat']] = df3[\"area\"].apply(lambda x: pd.Series(str(x).split(\" \")))\n"
     ]
    }
   ],
   "source": [
    "df3[['size','size_cat']] = df3[\"area\"].apply(lambda x: pd.Series(str(x).split(\" \")))"
   ]
  },
  {
   "cell_type": "code",
   "execution_count": 153,
   "id": "ed3ffcea",
   "metadata": {},
   "outputs": [
    {
     "data": {
      "text/plain": [
       "Index(['property_type', 'price', 'location', 'city', 'province_name', 'baths',\n",
       "       'area_marla', 'area_sqft', 'purpose', 'bedrooms', 'agency', 'agent',\n",
       "       'size'],\n",
       "      dtype='object')"
      ]
     },
     "execution_count": 153,
     "metadata": {},
     "output_type": "execute_result"
    }
   ],
   "source": [
    "#df3['size'] = df3['area'].apply(lambda x: str(x.split(' ')[0]))\n",
    "df3.columns"
   ]
  },
  {
   "cell_type": "code",
   "execution_count": 161,
   "id": "fa2dda30",
   "metadata": {},
   "outputs": [
    {
     "name": "stderr",
     "output_type": "stream",
     "text": [
      "C:\\Users\\admin\\AppData\\Local\\Temp\\ipykernel_13592\\1887573969.py:1: SettingWithCopyWarning: \n",
      "A value is trying to be set on a copy of a slice from a DataFrame.\n",
      "Try using .loc[row_indexer,col_indexer] = value instead\n",
      "\n",
      "See the caveats in the documentation: https://pandas.pydata.org/pandas-docs/stable/user_guide/indexing.html#returning-a-view-versus-a-copy\n",
      "  df3[\"size\"] = df3.size.astype(float)\n"
     ]
    }
   ],
   "source": [
    "df3[\"size\"] = df3.size.astype(float)"
   ]
  },
  {
   "cell_type": "code",
   "execution_count": 163,
   "id": "e99eadb8",
   "metadata": {},
   "outputs": [],
   "source": [
    "df3 = df3.drop(['price_bin', 'area'],axis='columns')"
   ]
  },
  {
   "cell_type": "code",
   "execution_count": 164,
   "id": "37600d9e",
   "metadata": {},
   "outputs": [],
   "source": [
    "def is_float(x):\n",
    "    try:\n",
    "        float64(x)\n",
    "    except:\n",
    "        return False\n",
    "    return True"
   ]
  },
  {
   "cell_type": "code",
   "execution_count": 165,
   "id": "b8c722a4",
   "metadata": {},
   "outputs": [],
   "source": [
    "def is_int(x):\n",
    "    try:\n",
    "        int(x)\n",
    "    except:\n",
    "        return False\n",
    "    return True"
   ]
  },
  {
   "cell_type": "code",
   "execution_count": 67,
   "id": "99714d65",
   "metadata": {},
   "outputs": [
    {
     "data": {
      "text/plain": [
       "5"
      ]
     },
     "execution_count": 67,
     "metadata": {},
     "output_type": "execute_result"
    }
   ],
   "source": [
    "2+3"
   ]
  },
  {
   "cell_type": "code",
   "execution_count": 166,
   "id": "ad951c59",
   "metadata": {},
   "outputs": [
    {
     "data": {
      "text/html": [
       "<div>\n",
       "<style scoped>\n",
       "    .dataframe tbody tr th:only-of-type {\n",
       "        vertical-align: middle;\n",
       "    }\n",
       "\n",
       "    .dataframe tbody tr th {\n",
       "        vertical-align: top;\n",
       "    }\n",
       "\n",
       "    .dataframe thead th {\n",
       "        text-align: right;\n",
       "    }\n",
       "</style>\n",
       "<table border=\"1\" class=\"dataframe\">\n",
       "  <thead>\n",
       "    <tr style=\"text-align: right;\">\n",
       "      <th></th>\n",
       "      <th>property_type</th>\n",
       "      <th>price</th>\n",
       "      <th>location</th>\n",
       "      <th>city</th>\n",
       "      <th>province_name</th>\n",
       "      <th>baths</th>\n",
       "      <th>area_marla</th>\n",
       "      <th>area_sqft</th>\n",
       "      <th>purpose</th>\n",
       "      <th>bedrooms</th>\n",
       "      <th>agency</th>\n",
       "      <th>agent</th>\n",
       "      <th>size</th>\n",
       "      <th>size_cat</th>\n",
       "    </tr>\n",
       "  </thead>\n",
       "  <tbody>\n",
       "    <tr>\n",
       "      <th>0</th>\n",
       "      <td>House</td>\n",
       "      <td>220000000</td>\n",
       "      <td>Model Town</td>\n",
       "      <td>Lahore</td>\n",
       "      <td>Punjab</td>\n",
       "      <td>0</td>\n",
       "      <td>120.0</td>\n",
       "      <td>32670.12</td>\n",
       "      <td>For Sale</td>\n",
       "      <td>0</td>\n",
       "      <td>Real Biz International</td>\n",
       "      <td>Usama Khan</td>\n",
       "      <td>2304208.0</td>\n",
       "      <td>Kanal</td>\n",
       "    </tr>\n",
       "    <tr>\n",
       "      <th>1</th>\n",
       "      <td>House</td>\n",
       "      <td>40000000</td>\n",
       "      <td>Multan Road</td>\n",
       "      <td>Lahore</td>\n",
       "      <td>Punjab</td>\n",
       "      <td>5</td>\n",
       "      <td>20.0</td>\n",
       "      <td>5445.02</td>\n",
       "      <td>For Sale</td>\n",
       "      <td>5</td>\n",
       "      <td>Khan Estate</td>\n",
       "      <td>mohsinkhan and B</td>\n",
       "      <td>2304208.0</td>\n",
       "      <td>Kanal</td>\n",
       "    </tr>\n",
       "    <tr>\n",
       "      <th>2</th>\n",
       "      <td>House</td>\n",
       "      <td>9500000</td>\n",
       "      <td>Eden</td>\n",
       "      <td>Lahore</td>\n",
       "      <td>Punjab</td>\n",
       "      <td>0</td>\n",
       "      <td>9.0</td>\n",
       "      <td>2450.26</td>\n",
       "      <td>For Sale</td>\n",
       "      <td>3</td>\n",
       "      <td>Shahum Estate 2</td>\n",
       "      <td>Babar Hameed, Raja Omar</td>\n",
       "      <td>2304208.0</td>\n",
       "      <td>Marla</td>\n",
       "    </tr>\n",
       "    <tr>\n",
       "      <th>5</th>\n",
       "      <td>House</td>\n",
       "      <td>52000000</td>\n",
       "      <td>Gulberg</td>\n",
       "      <td>Lahore</td>\n",
       "      <td>Punjab</td>\n",
       "      <td>6</td>\n",
       "      <td>20.0</td>\n",
       "      <td>5445.02</td>\n",
       "      <td>For Sale</td>\n",
       "      <td>5</td>\n",
       "      <td>MATZ Services</td>\n",
       "      <td>Group Captain (R) Tajammul Baig</td>\n",
       "      <td>2304208.0</td>\n",
       "      <td>Kanal</td>\n",
       "    </tr>\n",
       "    <tr>\n",
       "      <th>7</th>\n",
       "      <td>House</td>\n",
       "      <td>32500000</td>\n",
       "      <td>EME Society</td>\n",
       "      <td>Lahore</td>\n",
       "      <td>Punjab</td>\n",
       "      <td>0</td>\n",
       "      <td>20.0</td>\n",
       "      <td>5445.02</td>\n",
       "      <td>For Sale</td>\n",
       "      <td>5</td>\n",
       "      <td>Sukhera Estate &amp; Builders</td>\n",
       "      <td>Ahmed Sheraz Sukhera</td>\n",
       "      <td>2304208.0</td>\n",
       "      <td>Kanal</td>\n",
       "    </tr>\n",
       "    <tr>\n",
       "      <th>8</th>\n",
       "      <td>House</td>\n",
       "      <td>31500000</td>\n",
       "      <td>EME Society</td>\n",
       "      <td>Lahore</td>\n",
       "      <td>Punjab</td>\n",
       "      <td>0</td>\n",
       "      <td>20.0</td>\n",
       "      <td>5445.02</td>\n",
       "      <td>For Sale</td>\n",
       "      <td>6</td>\n",
       "      <td>Sukhera Estate &amp; Builders</td>\n",
       "      <td>Ahmed Sheraz Sukhera</td>\n",
       "      <td>2304208.0</td>\n",
       "      <td>Kanal</td>\n",
       "    </tr>\n",
       "    <tr>\n",
       "      <th>9</th>\n",
       "      <td>House</td>\n",
       "      <td>40000000</td>\n",
       "      <td>Izmir Town</td>\n",
       "      <td>Lahore</td>\n",
       "      <td>Punjab</td>\n",
       "      <td>0</td>\n",
       "      <td>32.0</td>\n",
       "      <td>8712.03</td>\n",
       "      <td>For Sale</td>\n",
       "      <td>6</td>\n",
       "      <td>Sukhera Estate &amp; Builders</td>\n",
       "      <td>Ahmed Sheraz Sukhera</td>\n",
       "      <td>2304208.0</td>\n",
       "      <td>Kanal</td>\n",
       "    </tr>\n",
       "    <tr>\n",
       "      <th>11</th>\n",
       "      <td>House</td>\n",
       "      <td>87500000</td>\n",
       "      <td>Upper Mall</td>\n",
       "      <td>Lahore</td>\n",
       "      <td>Punjab</td>\n",
       "      <td>5</td>\n",
       "      <td>24.0</td>\n",
       "      <td>6534.02</td>\n",
       "      <td>For Sale</td>\n",
       "      <td>4</td>\n",
       "      <td>Hamza Real Estate</td>\n",
       "      <td>Imran Shahad</td>\n",
       "      <td>2304208.0</td>\n",
       "      <td>Kanal</td>\n",
       "    </tr>\n",
       "    <tr>\n",
       "      <th>13</th>\n",
       "      <td>House</td>\n",
       "      <td>16500000</td>\n",
       "      <td>Cavalry Ground</td>\n",
       "      <td>Lahore</td>\n",
       "      <td>Punjab</td>\n",
       "      <td>0</td>\n",
       "      <td>10.0</td>\n",
       "      <td>2722.51</td>\n",
       "      <td>For Sale</td>\n",
       "      <td>4</td>\n",
       "      <td>Rana Estate</td>\n",
       "      <td>Rana Shahzad</td>\n",
       "      <td>2304208.0</td>\n",
       "      <td>Marla</td>\n",
       "    </tr>\n",
       "    <tr>\n",
       "      <th>14</th>\n",
       "      <td>House</td>\n",
       "      <td>18500000</td>\n",
       "      <td>Bahria Town</td>\n",
       "      <td>Lahore</td>\n",
       "      <td>Punjab</td>\n",
       "      <td>0</td>\n",
       "      <td>10.0</td>\n",
       "      <td>2722.51</td>\n",
       "      <td>For Sale</td>\n",
       "      <td>0</td>\n",
       "      <td>Punjab Associates</td>\n",
       "      <td>Ch. Tariq Ali Ranjha</td>\n",
       "      <td>2304208.0</td>\n",
       "      <td>Marla</td>\n",
       "    </tr>\n",
       "  </tbody>\n",
       "</table>\n",
       "</div>"
      ],
      "text/plain": [
       "   property_type      price        location    city province_name  baths  \\\n",
       "0          House  220000000      Model Town  Lahore        Punjab      0   \n",
       "1          House   40000000     Multan Road  Lahore        Punjab      5   \n",
       "2          House    9500000            Eden  Lahore        Punjab      0   \n",
       "5          House   52000000         Gulberg  Lahore        Punjab      6   \n",
       "7          House   32500000     EME Society  Lahore        Punjab      0   \n",
       "8          House   31500000     EME Society  Lahore        Punjab      0   \n",
       "9          House   40000000      Izmir Town  Lahore        Punjab      0   \n",
       "11         House   87500000      Upper Mall  Lahore        Punjab      5   \n",
       "13         House   16500000  Cavalry Ground  Lahore        Punjab      0   \n",
       "14         House   18500000     Bahria Town  Lahore        Punjab      0   \n",
       "\n",
       "    area_marla  area_sqft   purpose  bedrooms                     agency  \\\n",
       "0        120.0   32670.12  For Sale         0     Real Biz International   \n",
       "1         20.0    5445.02  For Sale         5                Khan Estate   \n",
       "2          9.0    2450.26  For Sale         3            Shahum Estate 2   \n",
       "5         20.0    5445.02  For Sale         5              MATZ Services   \n",
       "7         20.0    5445.02  For Sale         5  Sukhera Estate & Builders   \n",
       "8         20.0    5445.02  For Sale         6  Sukhera Estate & Builders   \n",
       "9         32.0    8712.03  For Sale         6  Sukhera Estate & Builders   \n",
       "11        24.0    6534.02  For Sale         4          Hamza Real Estate   \n",
       "13        10.0    2722.51  For Sale         4                Rana Estate   \n",
       "14        10.0    2722.51  For Sale         0          Punjab Associates   \n",
       "\n",
       "                              agent       size size_cat  \n",
       "0                        Usama Khan  2304208.0    Kanal  \n",
       "1                  mohsinkhan and B  2304208.0    Kanal  \n",
       "2           Babar Hameed, Raja Omar  2304208.0    Marla  \n",
       "5   Group Captain (R) Tajammul Baig  2304208.0    Kanal  \n",
       "7              Ahmed Sheraz Sukhera  2304208.0    Kanal  \n",
       "8              Ahmed Sheraz Sukhera  2304208.0    Kanal  \n",
       "9              Ahmed Sheraz Sukhera  2304208.0    Kanal  \n",
       "11                     Imran Shahad  2304208.0    Kanal  \n",
       "13                     Rana Shahzad  2304208.0    Marla  \n",
       "14             Ch. Tariq Ali Ranjha  2304208.0    Marla  "
      ]
     },
     "execution_count": 166,
     "metadata": {},
     "output_type": "execute_result"
    }
   ],
   "source": [
    "df3[~df3['area_sqft'].apply(is_float)].head(10)"
   ]
  },
  {
   "cell_type": "code",
   "execution_count": 167,
   "id": "75b3c856",
   "metadata": {},
   "outputs": [],
   "source": [
    "def convert_sqft_to_num(x):\n",
    "    tokens = x.split('-')\n",
    "    if len(tokens) == 2:\n",
    "        return (float(tokens[0])+float(tokens[1]))/2\n",
    "    try:\n",
    "        return float(x)\n",
    "    except:\n",
    "        return None  "
   ]
  },
  {
   "cell_type": "code",
   "execution_count": 168,
   "id": "3f14d8f5",
   "metadata": {},
   "outputs": [
    {
     "name": "stderr",
     "output_type": "stream",
     "text": [
      "C:\\Users\\admin\\AppData\\Local\\Temp\\ipykernel_13592\\4099225518.py:1: FutureWarning: Dropping of nuisance columns in DataFrame reductions (with 'numeric_only=None') is deprecated; in a future version this will raise TypeError.  Select only valid columns before calling the reduction.\n",
      "  df4['area_sqft'] = df4['area_sqft'].fillna(df4.mean()['area_sqft'])\n"
     ]
    }
   ],
   "source": [
    "df4['area_sqft'] = df4['area_sqft'].fillna(df4.mean()['area_sqft'])"
   ]
  },
  {
   "cell_type": "code",
   "execution_count": 169,
   "id": "0493bf45",
   "metadata": {},
   "outputs": [
    {
     "data": {
      "text/html": [
       "<div>\n",
       "<style scoped>\n",
       "    .dataframe tbody tr th:only-of-type {\n",
       "        vertical-align: middle;\n",
       "    }\n",
       "\n",
       "    .dataframe tbody tr th {\n",
       "        vertical-align: top;\n",
       "    }\n",
       "\n",
       "    .dataframe thead th {\n",
       "        text-align: right;\n",
       "    }\n",
       "</style>\n",
       "<table border=\"1\" class=\"dataframe\">\n",
       "  <thead>\n",
       "    <tr style=\"text-align: right;\">\n",
       "      <th></th>\n",
       "      <th>property_type</th>\n",
       "      <th>price</th>\n",
       "      <th>location</th>\n",
       "      <th>city</th>\n",
       "      <th>province_name</th>\n",
       "      <th>baths</th>\n",
       "      <th>area_marla</th>\n",
       "      <th>area_sqft</th>\n",
       "      <th>purpose</th>\n",
       "      <th>bedrooms</th>\n",
       "      <th>agency</th>\n",
       "      <th>agent</th>\n",
       "      <th>size</th>\n",
       "      <th>size_cat</th>\n",
       "    </tr>\n",
       "  </thead>\n",
       "  <tbody>\n",
       "    <tr>\n",
       "      <th>662</th>\n",
       "      <td>House</td>\n",
       "      <td>370000</td>\n",
       "      <td>Upper Mall</td>\n",
       "      <td>Lahore</td>\n",
       "      <td>Punjab</td>\n",
       "      <td>4</td>\n",
       "      <td>40.0</td>\n",
       "      <td>10890.04</td>\n",
       "      <td>For Rent</td>\n",
       "      <td>3</td>\n",
       "      <td>Hamza Real Estate</td>\n",
       "      <td>Imran Shahad</td>\n",
       "      <td>2304208.0</td>\n",
       "      <td>Kanal</td>\n",
       "    </tr>\n",
       "    <tr>\n",
       "      <th>663</th>\n",
       "      <td>House</td>\n",
       "      <td>325000</td>\n",
       "      <td>Gulberg</td>\n",
       "      <td>Lahore</td>\n",
       "      <td>Punjab</td>\n",
       "      <td>7</td>\n",
       "      <td>40.0</td>\n",
       "      <td>10890.04</td>\n",
       "      <td>For Rent</td>\n",
       "      <td>5</td>\n",
       "      <td>Hamza Real Estate</td>\n",
       "      <td>Imran Shahad</td>\n",
       "      <td>2304208.0</td>\n",
       "      <td>Kanal</td>\n",
       "    </tr>\n",
       "  </tbody>\n",
       "</table>\n",
       "</div>"
      ],
      "text/plain": [
       "    property_type   price    location    city province_name  baths  \\\n",
       "662         House  370000  Upper Mall  Lahore        Punjab      4   \n",
       "663         House  325000     Gulberg  Lahore        Punjab      7   \n",
       "\n",
       "     area_marla  area_sqft   purpose  bedrooms             agency  \\\n",
       "662        40.0   10890.04  For Rent         3  Hamza Real Estate   \n",
       "663        40.0   10890.04  For Rent         5  Hamza Real Estate   \n",
       "\n",
       "            agent       size size_cat  \n",
       "662  Imran Shahad  2304208.0    Kanal  \n",
       "663  Imran Shahad  2304208.0    Kanal  "
      ]
     },
     "execution_count": 169,
     "metadata": {},
     "output_type": "execute_result"
    }
   ],
   "source": [
    "df4 = df3.copy()\n",
    "df4 = df4[df4.purpose != \"For Sale\"]\n",
    "df4.head(2)"
   ]
  },
  {
   "cell_type": "code",
   "execution_count": 170,
   "id": "4e888d32",
   "metadata": {},
   "outputs": [
    {
     "data": {
      "text/html": [
       "<div>\n",
       "<style scoped>\n",
       "    .dataframe tbody tr th:only-of-type {\n",
       "        vertical-align: middle;\n",
       "    }\n",
       "\n",
       "    .dataframe tbody tr th {\n",
       "        vertical-align: top;\n",
       "    }\n",
       "\n",
       "    .dataframe thead th {\n",
       "        text-align: right;\n",
       "    }\n",
       "</style>\n",
       "<table border=\"1\" class=\"dataframe\">\n",
       "  <thead>\n",
       "    <tr style=\"text-align: right;\">\n",
       "      <th></th>\n",
       "      <th>property_type</th>\n",
       "      <th>price</th>\n",
       "      <th>location</th>\n",
       "      <th>city</th>\n",
       "      <th>province_name</th>\n",
       "      <th>baths</th>\n",
       "      <th>area_marla</th>\n",
       "      <th>area_sqft</th>\n",
       "      <th>purpose</th>\n",
       "      <th>bedrooms</th>\n",
       "      <th>agency</th>\n",
       "      <th>agent</th>\n",
       "      <th>size</th>\n",
       "      <th>size_cat</th>\n",
       "      <th>price_per_sqft</th>\n",
       "      <th>price_per_marla</th>\n",
       "    </tr>\n",
       "  </thead>\n",
       "  <tbody>\n",
       "    <tr>\n",
       "      <th>662</th>\n",
       "      <td>House</td>\n",
       "      <td>370000</td>\n",
       "      <td>Upper Mall</td>\n",
       "      <td>Lahore</td>\n",
       "      <td>Punjab</td>\n",
       "      <td>4</td>\n",
       "      <td>40.0</td>\n",
       "      <td>10890.04</td>\n",
       "      <td>For Rent</td>\n",
       "      <td>3</td>\n",
       "      <td>Hamza Real Estate</td>\n",
       "      <td>Imran Shahad</td>\n",
       "      <td>2304208.0</td>\n",
       "      <td>Kanal</td>\n",
       "      <td>33.976000</td>\n",
       "      <td>9250.000000</td>\n",
       "    </tr>\n",
       "    <tr>\n",
       "      <th>663</th>\n",
       "      <td>House</td>\n",
       "      <td>325000</td>\n",
       "      <td>Gulberg</td>\n",
       "      <td>Lahore</td>\n",
       "      <td>Punjab</td>\n",
       "      <td>7</td>\n",
       "      <td>40.0</td>\n",
       "      <td>10890.04</td>\n",
       "      <td>For Rent</td>\n",
       "      <td>5</td>\n",
       "      <td>Hamza Real Estate</td>\n",
       "      <td>Imran Shahad</td>\n",
       "      <td>2304208.0</td>\n",
       "      <td>Kanal</td>\n",
       "      <td>29.843784</td>\n",
       "      <td>8125.000000</td>\n",
       "    </tr>\n",
       "    <tr>\n",
       "      <th>664</th>\n",
       "      <td>House</td>\n",
       "      <td>1500000</td>\n",
       "      <td>Gulberg</td>\n",
       "      <td>Lahore</td>\n",
       "      <td>Punjab</td>\n",
       "      <td>0</td>\n",
       "      <td>90.0</td>\n",
       "      <td>24502.59</td>\n",
       "      <td>For Rent</td>\n",
       "      <td>0</td>\n",
       "      <td>Hamza Real Estate</td>\n",
       "      <td>Imran Shahad</td>\n",
       "      <td>2304208.0</td>\n",
       "      <td>Kanal</td>\n",
       "      <td>61.218018</td>\n",
       "      <td>16666.666667</td>\n",
       "    </tr>\n",
       "    <tr>\n",
       "      <th>665</th>\n",
       "      <td>House</td>\n",
       "      <td>35000</td>\n",
       "      <td>Bahria Town</td>\n",
       "      <td>Lahore</td>\n",
       "      <td>Punjab</td>\n",
       "      <td>0</td>\n",
       "      <td>5.0</td>\n",
       "      <td>1361.25</td>\n",
       "      <td>For Rent</td>\n",
       "      <td>0</td>\n",
       "      <td>AL - Haider Real Estate &amp; Builders</td>\n",
       "      <td>M Imran Malik</td>\n",
       "      <td>2304208.0</td>\n",
       "      <td>Marla</td>\n",
       "      <td>25.711662</td>\n",
       "      <td>7000.000000</td>\n",
       "    </tr>\n",
       "    <tr>\n",
       "      <th>666</th>\n",
       "      <td>House</td>\n",
       "      <td>60000</td>\n",
       "      <td>Bahria Town</td>\n",
       "      <td>Lahore</td>\n",
       "      <td>Punjab</td>\n",
       "      <td>0</td>\n",
       "      <td>10.0</td>\n",
       "      <td>2722.51</td>\n",
       "      <td>For Rent</td>\n",
       "      <td>0</td>\n",
       "      <td>AL - Haider Real Estate &amp; Builders</td>\n",
       "      <td>M Imran Malik</td>\n",
       "      <td>2304208.0</td>\n",
       "      <td>Marla</td>\n",
       "      <td>22.038487</td>\n",
       "      <td>6000.000000</td>\n",
       "    </tr>\n",
       "  </tbody>\n",
       "</table>\n",
       "</div>"
      ],
      "text/plain": [
       "    property_type    price     location    city province_name  baths  \\\n",
       "662         House   370000   Upper Mall  Lahore        Punjab      4   \n",
       "663         House   325000      Gulberg  Lahore        Punjab      7   \n",
       "664         House  1500000      Gulberg  Lahore        Punjab      0   \n",
       "665         House    35000  Bahria Town  Lahore        Punjab      0   \n",
       "666         House    60000  Bahria Town  Lahore        Punjab      0   \n",
       "\n",
       "     area_marla  area_sqft   purpose  bedrooms  \\\n",
       "662        40.0   10890.04  For Rent         3   \n",
       "663        40.0   10890.04  For Rent         5   \n",
       "664        90.0   24502.59  For Rent         0   \n",
       "665         5.0    1361.25  For Rent         0   \n",
       "666        10.0    2722.51  For Rent         0   \n",
       "\n",
       "                                 agency          agent       size size_cat  \\\n",
       "662                   Hamza Real Estate   Imran Shahad  2304208.0    Kanal   \n",
       "663                   Hamza Real Estate   Imran Shahad  2304208.0    Kanal   \n",
       "664                   Hamza Real Estate   Imran Shahad  2304208.0    Kanal   \n",
       "665  AL - Haider Real Estate & Builders  M Imran Malik  2304208.0    Marla   \n",
       "666  AL - Haider Real Estate & Builders  M Imran Malik  2304208.0    Marla   \n",
       "\n",
       "     price_per_sqft  price_per_marla  \n",
       "662       33.976000      9250.000000  \n",
       "663       29.843784      8125.000000  \n",
       "664       61.218018     16666.666667  \n",
       "665       25.711662      7000.000000  \n",
       "666       22.038487      6000.000000  "
      ]
     },
     "execution_count": 170,
     "metadata": {},
     "output_type": "execute_result"
    }
   ],
   "source": [
    "df5 = df4.copy()\n",
    "df5['price_per_sqft'] = df5['price'] / df5['area_sqft']\n",
    "df5['price_per_marla'] = df5['price'] / df5['area_marla']\n",
    "df5.head()"
   ]
  },
  {
   "cell_type": "code",
   "execution_count": 171,
   "id": "c9141ae7",
   "metadata": {},
   "outputs": [
    {
     "data": {
      "text/plain": [
       "count    4.896100e+04\n",
       "mean              inf\n",
       "std               NaN\n",
       "min      3.673081e-03\n",
       "25%      1.469232e+01\n",
       "50%      2.130387e+01\n",
       "75%      3.183329e+01\n",
       "max               inf\n",
       "Name: price_per_sqft, dtype: float64"
      ]
     },
     "execution_count": 171,
     "metadata": {},
     "output_type": "execute_result"
    }
   ],
   "source": [
    "df5_stats = df5['price_per_sqft'].describe()\n",
    "df5_stats"
   ]
  },
  {
   "cell_type": "code",
   "execution_count": 172,
   "id": "141a6138",
   "metadata": {},
   "outputs": [
    {
     "data": {
      "text/plain": [
       "count    4.896100e+04\n",
       "mean              inf\n",
       "std               NaN\n",
       "min      1.000000e+00\n",
       "25%      4.000000e+03\n",
       "50%      5.800000e+03\n",
       "75%      8.666667e+03\n",
       "max               inf\n",
       "Name: price_per_marla, dtype: float64"
      ]
     },
     "execution_count": 172,
     "metadata": {},
     "output_type": "execute_result"
    }
   ],
   "source": [
    "df5_stats = df5['price_per_marla'].describe()\n",
    "df5_stats"
   ]
  },
  {
   "cell_type": "code",
   "execution_count": 173,
   "id": "0219aff8",
   "metadata": {},
   "outputs": [],
   "source": [
    "df5.to_csv(\"bhp.csv\",index=False)"
   ]
  },
  {
   "cell_type": "code",
   "execution_count": 174,
   "id": "83f7cd0b",
   "metadata": {},
   "outputs": [
    {
     "data": {
      "text/plain": [
       "DHA Defence                       8222\n",
       "Bahria Town Rawalpindi            3291\n",
       "I-8                               2139\n",
       "E-11                              1608\n",
       "G-13                              1324\n",
       "                                  ... \n",
       "Gulshan View Residence Society       1\n",
       "Brandreth Road                       1\n",
       "Eastridge Housing Scheme             1\n",
       "AR Cottages                          1\n",
       "Sohan Valley                         1\n",
       "Name: location, Length: 634, dtype: int64"
      ]
     },
     "execution_count": 174,
     "metadata": {},
     "output_type": "execute_result"
    }
   ],
   "source": [
    " df5.location = df5.location.apply(lambda x: x.strip())\n",
    "location_stats = df5['location'].value_counts(ascending=False)\n",
    "location_stats"
   ]
  },
  {
   "cell_type": "code",
   "execution_count": 175,
   "id": "fdfd2720",
   "metadata": {},
   "outputs": [
    {
     "data": {
      "text/plain": [
       "48961"
      ]
     },
     "execution_count": 175,
     "metadata": {},
     "output_type": "execute_result"
    }
   ],
   "source": [
    "location_stats.values.sum()"
   ]
  },
  {
   "cell_type": "code",
   "execution_count": 176,
   "id": "c3fb4968",
   "metadata": {},
   "outputs": [
    {
     "data": {
      "text/plain": [
       "251"
      ]
     },
     "execution_count": 176,
     "metadata": {},
     "output_type": "execute_result"
    }
   ],
   "source": [
    "len(location_stats[location_stats>10])"
   ]
  },
  {
   "cell_type": "code",
   "execution_count": 177,
   "id": "19e88e85",
   "metadata": {},
   "outputs": [
    {
     "data": {
      "text/plain": [
       "634"
      ]
     },
     "execution_count": 177,
     "metadata": {},
     "output_type": "execute_result"
    }
   ],
   "source": [
    "len(location_stats)"
   ]
  },
  {
   "cell_type": "code",
   "execution_count": 178,
   "id": "11f0eb28",
   "metadata": {},
   "outputs": [
    {
     "data": {
      "text/plain": [
       "383"
      ]
     },
     "execution_count": 178,
     "metadata": {},
     "output_type": "execute_result"
    }
   ],
   "source": [
    "len(location_stats[location_stats<=10])"
   ]
  },
  {
   "cell_type": "code",
   "execution_count": 180,
   "id": "4ed6488e",
   "metadata": {},
   "outputs": [
    {
     "data": {
      "text/plain": [
       "Canal Bank Housing Scheme         10\n",
       "Sukh Chayn Gardens                10\n",
       "Raiwind Road                      10\n",
       "Nazir Garden Society              10\n",
       "Khayaban-e-Amin                   10\n",
       "                                  ..\n",
       "Gulshan View Residence Society     1\n",
       "Brandreth Road                     1\n",
       "Eastridge Housing Scheme           1\n",
       "AR Cottages                        1\n",
       "Sohan Valley                       1\n",
       "Name: location, Length: 383, dtype: int64"
      ]
     },
     "execution_count": 180,
     "metadata": {},
     "output_type": "execute_result"
    }
   ],
   "source": [
    "location_stats_less_than_10 = location_stats[location_stats<=10]\n",
    "location_stats_less_than_10"
   ]
  },
  {
   "cell_type": "code",
   "execution_count": 181,
   "id": "cf92ac0c",
   "metadata": {},
   "outputs": [
    {
     "data": {
      "text/plain": [
       "634"
      ]
     },
     "execution_count": 181,
     "metadata": {},
     "output_type": "execute_result"
    }
   ],
   "source": [
    "len(df5.location.unique())"
   ]
  },
  {
   "cell_type": "code",
   "execution_count": 182,
   "id": "3126f780",
   "metadata": {},
   "outputs": [
    {
     "data": {
      "text/plain": [
       "252"
      ]
     },
     "execution_count": 182,
     "metadata": {},
     "output_type": "execute_result"
    }
   ],
   "source": [
    "df5.location = df5.location.apply(lambda x: 'other' if x in location_stats_less_than_10 else x)\n",
    "len(df5.location.unique())"
   ]
  },
  {
   "cell_type": "code",
   "execution_count": 183,
   "id": "990186fa",
   "metadata": {
    "scrolled": true
   },
   "outputs": [
    {
     "data": {
      "text/html": [
       "<div>\n",
       "<style scoped>\n",
       "    .dataframe tbody tr th:only-of-type {\n",
       "        vertical-align: middle;\n",
       "    }\n",
       "\n",
       "    .dataframe tbody tr th {\n",
       "        vertical-align: top;\n",
       "    }\n",
       "\n",
       "    .dataframe thead th {\n",
       "        text-align: right;\n",
       "    }\n",
       "</style>\n",
       "<table border=\"1\" class=\"dataframe\">\n",
       "  <thead>\n",
       "    <tr style=\"text-align: right;\">\n",
       "      <th></th>\n",
       "      <th>property_type</th>\n",
       "      <th>price</th>\n",
       "      <th>location</th>\n",
       "      <th>city</th>\n",
       "      <th>province_name</th>\n",
       "      <th>baths</th>\n",
       "      <th>area_marla</th>\n",
       "      <th>area_sqft</th>\n",
       "      <th>purpose</th>\n",
       "      <th>bedrooms</th>\n",
       "      <th>agency</th>\n",
       "      <th>agent</th>\n",
       "      <th>size</th>\n",
       "      <th>size_cat</th>\n",
       "      <th>price_per_sqft</th>\n",
       "      <th>price_per_marla</th>\n",
       "    </tr>\n",
       "  </thead>\n",
       "  <tbody>\n",
       "    <tr>\n",
       "      <th>662</th>\n",
       "      <td>House</td>\n",
       "      <td>370000</td>\n",
       "      <td>Upper Mall</td>\n",
       "      <td>Lahore</td>\n",
       "      <td>Punjab</td>\n",
       "      <td>4</td>\n",
       "      <td>40.0</td>\n",
       "      <td>10890.04</td>\n",
       "      <td>For Rent</td>\n",
       "      <td>3</td>\n",
       "      <td>Hamza Real Estate</td>\n",
       "      <td>Imran Shahad</td>\n",
       "      <td>2304208.0</td>\n",
       "      <td>Kanal</td>\n",
       "      <td>33.976000</td>\n",
       "      <td>9250.000000</td>\n",
       "    </tr>\n",
       "    <tr>\n",
       "      <th>663</th>\n",
       "      <td>House</td>\n",
       "      <td>325000</td>\n",
       "      <td>Gulberg</td>\n",
       "      <td>Lahore</td>\n",
       "      <td>Punjab</td>\n",
       "      <td>7</td>\n",
       "      <td>40.0</td>\n",
       "      <td>10890.04</td>\n",
       "      <td>For Rent</td>\n",
       "      <td>5</td>\n",
       "      <td>Hamza Real Estate</td>\n",
       "      <td>Imran Shahad</td>\n",
       "      <td>2304208.0</td>\n",
       "      <td>Kanal</td>\n",
       "      <td>29.843784</td>\n",
       "      <td>8125.000000</td>\n",
       "    </tr>\n",
       "    <tr>\n",
       "      <th>664</th>\n",
       "      <td>House</td>\n",
       "      <td>1500000</td>\n",
       "      <td>Gulberg</td>\n",
       "      <td>Lahore</td>\n",
       "      <td>Punjab</td>\n",
       "      <td>0</td>\n",
       "      <td>90.0</td>\n",
       "      <td>24502.59</td>\n",
       "      <td>For Rent</td>\n",
       "      <td>0</td>\n",
       "      <td>Hamza Real Estate</td>\n",
       "      <td>Imran Shahad</td>\n",
       "      <td>2304208.0</td>\n",
       "      <td>Kanal</td>\n",
       "      <td>61.218018</td>\n",
       "      <td>16666.666667</td>\n",
       "    </tr>\n",
       "    <tr>\n",
       "      <th>665</th>\n",
       "      <td>House</td>\n",
       "      <td>35000</td>\n",
       "      <td>Bahria Town</td>\n",
       "      <td>Lahore</td>\n",
       "      <td>Punjab</td>\n",
       "      <td>0</td>\n",
       "      <td>5.0</td>\n",
       "      <td>1361.25</td>\n",
       "      <td>For Rent</td>\n",
       "      <td>0</td>\n",
       "      <td>AL - Haider Real Estate &amp; Builders</td>\n",
       "      <td>M Imran Malik</td>\n",
       "      <td>2304208.0</td>\n",
       "      <td>Marla</td>\n",
       "      <td>25.711662</td>\n",
       "      <td>7000.000000</td>\n",
       "    </tr>\n",
       "    <tr>\n",
       "      <th>666</th>\n",
       "      <td>House</td>\n",
       "      <td>60000</td>\n",
       "      <td>Bahria Town</td>\n",
       "      <td>Lahore</td>\n",
       "      <td>Punjab</td>\n",
       "      <td>0</td>\n",
       "      <td>10.0</td>\n",
       "      <td>2722.51</td>\n",
       "      <td>For Rent</td>\n",
       "      <td>0</td>\n",
       "      <td>AL - Haider Real Estate &amp; Builders</td>\n",
       "      <td>M Imran Malik</td>\n",
       "      <td>2304208.0</td>\n",
       "      <td>Marla</td>\n",
       "      <td>22.038487</td>\n",
       "      <td>6000.000000</td>\n",
       "    </tr>\n",
       "    <tr>\n",
       "      <th>667</th>\n",
       "      <td>Upper Portion</td>\n",
       "      <td>30000</td>\n",
       "      <td>Bahria Town</td>\n",
       "      <td>Lahore</td>\n",
       "      <td>Punjab</td>\n",
       "      <td>0</td>\n",
       "      <td>10.0</td>\n",
       "      <td>2722.51</td>\n",
       "      <td>For Rent</td>\n",
       "      <td>0</td>\n",
       "      <td>AL - Haider Real Estate &amp; Builders</td>\n",
       "      <td>M Imran Malik</td>\n",
       "      <td>2304208.0</td>\n",
       "      <td>Marla</td>\n",
       "      <td>11.019243</td>\n",
       "      <td>3000.000000</td>\n",
       "    </tr>\n",
       "    <tr>\n",
       "      <th>668</th>\n",
       "      <td>House</td>\n",
       "      <td>325000</td>\n",
       "      <td>Gulberg</td>\n",
       "      <td>Lahore</td>\n",
       "      <td>Punjab</td>\n",
       "      <td>6</td>\n",
       "      <td>34.0</td>\n",
       "      <td>9256.53</td>\n",
       "      <td>For Rent</td>\n",
       "      <td>5</td>\n",
       "      <td>Hamza Real Estate</td>\n",
       "      <td>Imran Shahad</td>\n",
       "      <td>2304208.0</td>\n",
       "      <td>Kanal</td>\n",
       "      <td>35.110349</td>\n",
       "      <td>9558.823529</td>\n",
       "    </tr>\n",
       "    <tr>\n",
       "      <th>669</th>\n",
       "      <td>House</td>\n",
       "      <td>100000</td>\n",
       "      <td>Cavalry Ground</td>\n",
       "      <td>Lahore</td>\n",
       "      <td>Punjab</td>\n",
       "      <td>5</td>\n",
       "      <td>12.0</td>\n",
       "      <td>3267.01</td>\n",
       "      <td>For Rent</td>\n",
       "      <td>5</td>\n",
       "      <td>Rana Estate</td>\n",
       "      <td>Rana Shahzad</td>\n",
       "      <td>2304208.0</td>\n",
       "      <td>Marla</td>\n",
       "      <td>30.609028</td>\n",
       "      <td>8333.333333</td>\n",
       "    </tr>\n",
       "    <tr>\n",
       "      <th>670</th>\n",
       "      <td>House</td>\n",
       "      <td>375000</td>\n",
       "      <td>Gulberg</td>\n",
       "      <td>Lahore</td>\n",
       "      <td>Punjab</td>\n",
       "      <td>7</td>\n",
       "      <td>40.0</td>\n",
       "      <td>10890.04</td>\n",
       "      <td>For Rent</td>\n",
       "      <td>5</td>\n",
       "      <td>Hamza Real Estate</td>\n",
       "      <td>Imran Shahad</td>\n",
       "      <td>2304208.0</td>\n",
       "      <td>Kanal</td>\n",
       "      <td>34.435135</td>\n",
       "      <td>9375.000000</td>\n",
       "    </tr>\n",
       "    <tr>\n",
       "      <th>672</th>\n",
       "      <td>House</td>\n",
       "      <td>425000</td>\n",
       "      <td>Gulberg</td>\n",
       "      <td>Lahore</td>\n",
       "      <td>Punjab</td>\n",
       "      <td>9</td>\n",
       "      <td>64.0</td>\n",
       "      <td>17424.06</td>\n",
       "      <td>For Rent</td>\n",
       "      <td>7</td>\n",
       "      <td>Hamza Real Estate</td>\n",
       "      <td>Imran Shahad</td>\n",
       "      <td>2304208.0</td>\n",
       "      <td>Kanal</td>\n",
       "      <td>24.391560</td>\n",
       "      <td>6640.625000</td>\n",
       "    </tr>\n",
       "  </tbody>\n",
       "</table>\n",
       "</div>"
      ],
      "text/plain": [
       "     property_type    price        location    city province_name  baths  \\\n",
       "662          House   370000      Upper Mall  Lahore        Punjab      4   \n",
       "663          House   325000         Gulberg  Lahore        Punjab      7   \n",
       "664          House  1500000         Gulberg  Lahore        Punjab      0   \n",
       "665          House    35000     Bahria Town  Lahore        Punjab      0   \n",
       "666          House    60000     Bahria Town  Lahore        Punjab      0   \n",
       "667  Upper Portion    30000     Bahria Town  Lahore        Punjab      0   \n",
       "668          House   325000         Gulberg  Lahore        Punjab      6   \n",
       "669          House   100000  Cavalry Ground  Lahore        Punjab      5   \n",
       "670          House   375000         Gulberg  Lahore        Punjab      7   \n",
       "672          House   425000         Gulberg  Lahore        Punjab      9   \n",
       "\n",
       "     area_marla  area_sqft   purpose  bedrooms  \\\n",
       "662        40.0   10890.04  For Rent         3   \n",
       "663        40.0   10890.04  For Rent         5   \n",
       "664        90.0   24502.59  For Rent         0   \n",
       "665         5.0    1361.25  For Rent         0   \n",
       "666        10.0    2722.51  For Rent         0   \n",
       "667        10.0    2722.51  For Rent         0   \n",
       "668        34.0    9256.53  For Rent         5   \n",
       "669        12.0    3267.01  For Rent         5   \n",
       "670        40.0   10890.04  For Rent         5   \n",
       "672        64.0   17424.06  For Rent         7   \n",
       "\n",
       "                                 agency          agent       size size_cat  \\\n",
       "662                   Hamza Real Estate   Imran Shahad  2304208.0    Kanal   \n",
       "663                   Hamza Real Estate   Imran Shahad  2304208.0    Kanal   \n",
       "664                   Hamza Real Estate   Imran Shahad  2304208.0    Kanal   \n",
       "665  AL - Haider Real Estate & Builders  M Imran Malik  2304208.0    Marla   \n",
       "666  AL - Haider Real Estate & Builders  M Imran Malik  2304208.0    Marla   \n",
       "667  AL - Haider Real Estate & Builders  M Imran Malik  2304208.0    Marla   \n",
       "668                   Hamza Real Estate   Imran Shahad  2304208.0    Kanal   \n",
       "669                         Rana Estate   Rana Shahzad  2304208.0    Marla   \n",
       "670                   Hamza Real Estate   Imran Shahad  2304208.0    Kanal   \n",
       "672                   Hamza Real Estate   Imran Shahad  2304208.0    Kanal   \n",
       "\n",
       "     price_per_sqft  price_per_marla  \n",
       "662       33.976000      9250.000000  \n",
       "663       29.843784      8125.000000  \n",
       "664       61.218018     16666.666667  \n",
       "665       25.711662      7000.000000  \n",
       "666       22.038487      6000.000000  \n",
       "667       11.019243      3000.000000  \n",
       "668       35.110349      9558.823529  \n",
       "669       30.609028      8333.333333  \n",
       "670       34.435135      9375.000000  \n",
       "672       24.391560      6640.625000  "
      ]
     },
     "execution_count": 183,
     "metadata": {},
     "output_type": "execute_result"
    }
   ],
   "source": [
    "df5.head(10)"
   ]
  },
  {
   "cell_type": "markdown",
   "id": "8ce89fa9",
   "metadata": {},
   "source": [
    "df4 = df3.copy()\n",
    "df4['total_sqft']= df4['total_sqft'].apply(convert_sqft_to_num)\n",
    "df4.head()"
   ]
  },
  {
   "cell_type": "code",
   "execution_count": 184,
   "id": "a3e0c150",
   "metadata": {},
   "outputs": [
    {
     "data": {
      "text/html": [
       "<div>\n",
       "<style scoped>\n",
       "    .dataframe tbody tr th:only-of-type {\n",
       "        vertical-align: middle;\n",
       "    }\n",
       "\n",
       "    .dataframe tbody tr th {\n",
       "        vertical-align: top;\n",
       "    }\n",
       "\n",
       "    .dataframe thead th {\n",
       "        text-align: right;\n",
       "    }\n",
       "</style>\n",
       "<table border=\"1\" class=\"dataframe\">\n",
       "  <thead>\n",
       "    <tr style=\"text-align: right;\">\n",
       "      <th></th>\n",
       "      <th>property_type</th>\n",
       "      <th>price</th>\n",
       "      <th>location</th>\n",
       "      <th>city</th>\n",
       "      <th>province_name</th>\n",
       "      <th>baths</th>\n",
       "      <th>area_marla</th>\n",
       "      <th>area_sqft</th>\n",
       "      <th>purpose</th>\n",
       "      <th>bedrooms</th>\n",
       "      <th>agency</th>\n",
       "      <th>agent</th>\n",
       "      <th>size</th>\n",
       "      <th>size_cat</th>\n",
       "      <th>price_per_sqft</th>\n",
       "      <th>price_per_marla</th>\n",
       "    </tr>\n",
       "  </thead>\n",
       "  <tbody>\n",
       "    <tr>\n",
       "      <th>662</th>\n",
       "      <td>House</td>\n",
       "      <td>370000</td>\n",
       "      <td>Upper Mall</td>\n",
       "      <td>Lahore</td>\n",
       "      <td>Punjab</td>\n",
       "      <td>4</td>\n",
       "      <td>40.0</td>\n",
       "      <td>10890.04</td>\n",
       "      <td>For Rent</td>\n",
       "      <td>3</td>\n",
       "      <td>Hamza Real Estate</td>\n",
       "      <td>Imran Shahad</td>\n",
       "      <td>2304208.0</td>\n",
       "      <td>Kanal</td>\n",
       "      <td>33.976000</td>\n",
       "      <td>9250.000000</td>\n",
       "    </tr>\n",
       "    <tr>\n",
       "      <th>663</th>\n",
       "      <td>House</td>\n",
       "      <td>325000</td>\n",
       "      <td>Gulberg</td>\n",
       "      <td>Lahore</td>\n",
       "      <td>Punjab</td>\n",
       "      <td>7</td>\n",
       "      <td>40.0</td>\n",
       "      <td>10890.04</td>\n",
       "      <td>For Rent</td>\n",
       "      <td>5</td>\n",
       "      <td>Hamza Real Estate</td>\n",
       "      <td>Imran Shahad</td>\n",
       "      <td>2304208.0</td>\n",
       "      <td>Kanal</td>\n",
       "      <td>29.843784</td>\n",
       "      <td>8125.000000</td>\n",
       "    </tr>\n",
       "    <tr>\n",
       "      <th>664</th>\n",
       "      <td>House</td>\n",
       "      <td>1500000</td>\n",
       "      <td>Gulberg</td>\n",
       "      <td>Lahore</td>\n",
       "      <td>Punjab</td>\n",
       "      <td>0</td>\n",
       "      <td>90.0</td>\n",
       "      <td>24502.59</td>\n",
       "      <td>For Rent</td>\n",
       "      <td>0</td>\n",
       "      <td>Hamza Real Estate</td>\n",
       "      <td>Imran Shahad</td>\n",
       "      <td>2304208.0</td>\n",
       "      <td>Kanal</td>\n",
       "      <td>61.218018</td>\n",
       "      <td>16666.666667</td>\n",
       "    </tr>\n",
       "    <tr>\n",
       "      <th>665</th>\n",
       "      <td>House</td>\n",
       "      <td>35000</td>\n",
       "      <td>Bahria Town</td>\n",
       "      <td>Lahore</td>\n",
       "      <td>Punjab</td>\n",
       "      <td>0</td>\n",
       "      <td>5.0</td>\n",
       "      <td>1361.25</td>\n",
       "      <td>For Rent</td>\n",
       "      <td>0</td>\n",
       "      <td>AL - Haider Real Estate &amp; Builders</td>\n",
       "      <td>M Imran Malik</td>\n",
       "      <td>2304208.0</td>\n",
       "      <td>Marla</td>\n",
       "      <td>25.711662</td>\n",
       "      <td>7000.000000</td>\n",
       "    </tr>\n",
       "    <tr>\n",
       "      <th>666</th>\n",
       "      <td>House</td>\n",
       "      <td>60000</td>\n",
       "      <td>Bahria Town</td>\n",
       "      <td>Lahore</td>\n",
       "      <td>Punjab</td>\n",
       "      <td>0</td>\n",
       "      <td>10.0</td>\n",
       "      <td>2722.51</td>\n",
       "      <td>For Rent</td>\n",
       "      <td>0</td>\n",
       "      <td>AL - Haider Real Estate &amp; Builders</td>\n",
       "      <td>M Imran Malik</td>\n",
       "      <td>2304208.0</td>\n",
       "      <td>Marla</td>\n",
       "      <td>22.038487</td>\n",
       "      <td>6000.000000</td>\n",
       "    </tr>\n",
       "  </tbody>\n",
       "</table>\n",
       "</div>"
      ],
      "text/plain": [
       "    property_type    price     location    city province_name  baths  \\\n",
       "662         House   370000   Upper Mall  Lahore        Punjab      4   \n",
       "663         House   325000      Gulberg  Lahore        Punjab      7   \n",
       "664         House  1500000      Gulberg  Lahore        Punjab      0   \n",
       "665         House    35000  Bahria Town  Lahore        Punjab      0   \n",
       "666         House    60000  Bahria Town  Lahore        Punjab      0   \n",
       "\n",
       "     area_marla  area_sqft   purpose  bedrooms  \\\n",
       "662        40.0   10890.04  For Rent         3   \n",
       "663        40.0   10890.04  For Rent         5   \n",
       "664        90.0   24502.59  For Rent         0   \n",
       "665         5.0    1361.25  For Rent         0   \n",
       "666        10.0    2722.51  For Rent         0   \n",
       "\n",
       "                                 agency          agent       size size_cat  \\\n",
       "662                   Hamza Real Estate   Imran Shahad  2304208.0    Kanal   \n",
       "663                   Hamza Real Estate   Imran Shahad  2304208.0    Kanal   \n",
       "664                   Hamza Real Estate   Imran Shahad  2304208.0    Kanal   \n",
       "665  AL - Haider Real Estate & Builders  M Imran Malik  2304208.0    Marla   \n",
       "666  AL - Haider Real Estate & Builders  M Imran Malik  2304208.0    Marla   \n",
       "\n",
       "     price_per_sqft  price_per_marla  \n",
       "662       33.976000      9250.000000  \n",
       "663       29.843784      8125.000000  \n",
       "664       61.218018     16666.666667  \n",
       "665       25.711662      7000.000000  \n",
       "666       22.038487      6000.000000  "
      ]
     },
     "execution_count": 184,
     "metadata": {},
     "output_type": "execute_result"
    }
   ],
   "source": [
    "df5[df5.area_sqft/df5.size<300].head()"
   ]
  },
  {
   "cell_type": "code",
   "execution_count": 185,
   "id": "538b98dd",
   "metadata": {},
   "outputs": [
    {
     "data": {
      "text/html": [
       "<div>\n",
       "<style scoped>\n",
       "    .dataframe tbody tr th:only-of-type {\n",
       "        vertical-align: middle;\n",
       "    }\n",
       "\n",
       "    .dataframe tbody tr th {\n",
       "        vertical-align: top;\n",
       "    }\n",
       "\n",
       "    .dataframe thead th {\n",
       "        text-align: right;\n",
       "    }\n",
       "</style>\n",
       "<table border=\"1\" class=\"dataframe\">\n",
       "  <thead>\n",
       "    <tr style=\"text-align: right;\">\n",
       "      <th></th>\n",
       "      <th>property_type</th>\n",
       "      <th>price</th>\n",
       "      <th>location</th>\n",
       "      <th>city</th>\n",
       "      <th>province_name</th>\n",
       "      <th>baths</th>\n",
       "      <th>area_marla</th>\n",
       "      <th>area_sqft</th>\n",
       "      <th>purpose</th>\n",
       "      <th>bedrooms</th>\n",
       "      <th>agency</th>\n",
       "      <th>agent</th>\n",
       "      <th>size</th>\n",
       "      <th>size_cat</th>\n",
       "      <th>price_per_sqft</th>\n",
       "      <th>price_per_marla</th>\n",
       "    </tr>\n",
       "  </thead>\n",
       "  <tbody>\n",
       "    <tr>\n",
       "      <th>662</th>\n",
       "      <td>House</td>\n",
       "      <td>370000</td>\n",
       "      <td>Upper Mall</td>\n",
       "      <td>Lahore</td>\n",
       "      <td>Punjab</td>\n",
       "      <td>4</td>\n",
       "      <td>40.0</td>\n",
       "      <td>10890.04</td>\n",
       "      <td>For Rent</td>\n",
       "      <td>3</td>\n",
       "      <td>Hamza Real Estate</td>\n",
       "      <td>Imran Shahad</td>\n",
       "      <td>2304208.0</td>\n",
       "      <td>Kanal</td>\n",
       "      <td>33.976000</td>\n",
       "      <td>9250.000000</td>\n",
       "    </tr>\n",
       "    <tr>\n",
       "      <th>663</th>\n",
       "      <td>House</td>\n",
       "      <td>325000</td>\n",
       "      <td>Gulberg</td>\n",
       "      <td>Lahore</td>\n",
       "      <td>Punjab</td>\n",
       "      <td>7</td>\n",
       "      <td>40.0</td>\n",
       "      <td>10890.04</td>\n",
       "      <td>For Rent</td>\n",
       "      <td>5</td>\n",
       "      <td>Hamza Real Estate</td>\n",
       "      <td>Imran Shahad</td>\n",
       "      <td>2304208.0</td>\n",
       "      <td>Kanal</td>\n",
       "      <td>29.843784</td>\n",
       "      <td>8125.000000</td>\n",
       "    </tr>\n",
       "    <tr>\n",
       "      <th>664</th>\n",
       "      <td>House</td>\n",
       "      <td>1500000</td>\n",
       "      <td>Gulberg</td>\n",
       "      <td>Lahore</td>\n",
       "      <td>Punjab</td>\n",
       "      <td>0</td>\n",
       "      <td>90.0</td>\n",
       "      <td>24502.59</td>\n",
       "      <td>For Rent</td>\n",
       "      <td>0</td>\n",
       "      <td>Hamza Real Estate</td>\n",
       "      <td>Imran Shahad</td>\n",
       "      <td>2304208.0</td>\n",
       "      <td>Kanal</td>\n",
       "      <td>61.218018</td>\n",
       "      <td>16666.666667</td>\n",
       "    </tr>\n",
       "    <tr>\n",
       "      <th>665</th>\n",
       "      <td>House</td>\n",
       "      <td>35000</td>\n",
       "      <td>Bahria Town</td>\n",
       "      <td>Lahore</td>\n",
       "      <td>Punjab</td>\n",
       "      <td>0</td>\n",
       "      <td>5.0</td>\n",
       "      <td>1361.25</td>\n",
       "      <td>For Rent</td>\n",
       "      <td>0</td>\n",
       "      <td>AL - Haider Real Estate &amp; Builders</td>\n",
       "      <td>M Imran Malik</td>\n",
       "      <td>2304208.0</td>\n",
       "      <td>Marla</td>\n",
       "      <td>25.711662</td>\n",
       "      <td>7000.000000</td>\n",
       "    </tr>\n",
       "    <tr>\n",
       "      <th>666</th>\n",
       "      <td>House</td>\n",
       "      <td>60000</td>\n",
       "      <td>Bahria Town</td>\n",
       "      <td>Lahore</td>\n",
       "      <td>Punjab</td>\n",
       "      <td>0</td>\n",
       "      <td>10.0</td>\n",
       "      <td>2722.51</td>\n",
       "      <td>For Rent</td>\n",
       "      <td>0</td>\n",
       "      <td>AL - Haider Real Estate &amp; Builders</td>\n",
       "      <td>M Imran Malik</td>\n",
       "      <td>2304208.0</td>\n",
       "      <td>Marla</td>\n",
       "      <td>22.038487</td>\n",
       "      <td>6000.000000</td>\n",
       "    </tr>\n",
       "  </tbody>\n",
       "</table>\n",
       "</div>"
      ],
      "text/plain": [
       "    property_type    price     location    city province_name  baths  \\\n",
       "662         House   370000   Upper Mall  Lahore        Punjab      4   \n",
       "663         House   325000      Gulberg  Lahore        Punjab      7   \n",
       "664         House  1500000      Gulberg  Lahore        Punjab      0   \n",
       "665         House    35000  Bahria Town  Lahore        Punjab      0   \n",
       "666         House    60000  Bahria Town  Lahore        Punjab      0   \n",
       "\n",
       "     area_marla  area_sqft   purpose  bedrooms  \\\n",
       "662        40.0   10890.04  For Rent         3   \n",
       "663        40.0   10890.04  For Rent         5   \n",
       "664        90.0   24502.59  For Rent         0   \n",
       "665         5.0    1361.25  For Rent         0   \n",
       "666        10.0    2722.51  For Rent         0   \n",
       "\n",
       "                                 agency          agent       size size_cat  \\\n",
       "662                   Hamza Real Estate   Imran Shahad  2304208.0    Kanal   \n",
       "663                   Hamza Real Estate   Imran Shahad  2304208.0    Kanal   \n",
       "664                   Hamza Real Estate   Imran Shahad  2304208.0    Kanal   \n",
       "665  AL - Haider Real Estate & Builders  M Imran Malik  2304208.0    Marla   \n",
       "666  AL - Haider Real Estate & Builders  M Imran Malik  2304208.0    Marla   \n",
       "\n",
       "     price_per_sqft  price_per_marla  \n",
       "662       33.976000      9250.000000  \n",
       "663       29.843784      8125.000000  \n",
       "664       61.218018     16666.666667  \n",
       "665       25.711662      7000.000000  \n",
       "666       22.038487      6000.000000  "
      ]
     },
     "execution_count": 185,
     "metadata": {},
     "output_type": "execute_result"
    }
   ],
   "source": [
    "df5[df5.area_marla/df5.size<300].head()"
   ]
  },
  {
   "cell_type": "code",
   "execution_count": 186,
   "id": "67152cce",
   "metadata": {},
   "outputs": [
    {
     "data": {
      "text/plain": [
       "(48961, 16)"
      ]
     },
     "execution_count": 186,
     "metadata": {},
     "output_type": "execute_result"
    }
   ],
   "source": [
    "df5.shape"
   ]
  },
  {
   "cell_type": "code",
   "execution_count": 187,
   "id": "31fedfa5",
   "metadata": {},
   "outputs": [
    {
     "data": {
      "text/plain": [
       "(1213, 16)"
      ]
     },
     "execution_count": 187,
     "metadata": {},
     "output_type": "execute_result"
    }
   ],
   "source": [
    "#df6 = df5[~(df5.area_sqft/df5.size<300)]\n",
    "df6 = df5[df5['area_sqft'] / df5['bedrooms'] < 300]\n",
    "df6.shape"
   ]
  },
  {
   "cell_type": "code",
   "execution_count": 188,
   "id": "50eeda65",
   "metadata": {},
   "outputs": [
    {
     "data": {
      "text/plain": [
       "count    1213.000000\n",
       "mean             inf\n",
       "std              NaN\n",
       "min         0.045079\n",
       "25%        33.057851\n",
       "50%        44.077135\n",
       "75%        58.769513\n",
       "max              inf\n",
       "Name: price_per_sqft, dtype: float64"
      ]
     },
     "execution_count": 188,
     "metadata": {},
     "output_type": "execute_result"
    }
   ],
   "source": [
    "df6.price_per_sqft.describe()\n"
   ]
  },
  {
   "cell_type": "code",
   "execution_count": 189,
   "id": "c6bbd490",
   "metadata": {},
   "outputs": [
    {
     "data": {
      "text/plain": [
       "(901, 16)"
      ]
     },
     "execution_count": 189,
     "metadata": {},
     "output_type": "execute_result"
    }
   ],
   "source": [
    "def remove_pps_outliers(df):\n",
    "    df_out = pd.DataFrame()\n",
    "    for key, subdf in df.groupby('location'):\n",
    "        m = np.mean(subdf.price_per_sqft)\n",
    "        st = np.std(subdf.price_per_sqft)\n",
    "        reduced_df = subdf[(subdf.price_per_sqft>(m-st)) & (subdf.price_per_sqft<=(m+st))]\n",
    "        df_out = pd.concat([df_out,reduced_df],ignore_index=True)\n",
    "    return df_out\n",
    "df7 = remove_pps_outliers(df6)\n",
    "df7.shape"
   ]
  },
  {
   "cell_type": "code",
   "execution_count": 141,
   "id": "7f017667",
   "metadata": {},
   "outputs": [],
   "source": [
    "def remove_pps_outliers(df):\n",
    "    df_out = pd.DataFrame()\n",
    "    for key,subdf in df6.groupby('location'):\n",
    "        m = np.mean(subdf['price_per_sqft'])\n",
    "        std = np.std(subdf['price_per_sqft'])\n",
    "        reduced_df = subdf[(subdf['price_per_sqft'] > (m-std)) & (subdf['price_per_sqft'] <= (m+std))]\n",
    "        df_out = pd.concat([df_out,reduced_df], ignore_index=True)\n",
    "    return df_out"
   ]
  },
  {
   "cell_type": "code",
   "execution_count": 142,
   "id": "bcaa39f7",
   "metadata": {},
   "outputs": [
    {
     "data": {
      "text/plain": [
       "(0, 0)"
      ]
     },
     "execution_count": 142,
     "metadata": {},
     "output_type": "execute_result"
    }
   ],
   "source": [
    "df = remove_pps_outliers(df6)\n",
    "df.shape"
   ]
  },
  {
   "cell_type": "code",
   "execution_count": 190,
   "id": "964dacda",
   "metadata": {},
   "outputs": [
    {
     "data": {
      "text/plain": [
       "(901, 16)"
      ]
     },
     "execution_count": 190,
     "metadata": {},
     "output_type": "execute_result"
    }
   ],
   "source": [
    "def remove_size_outliers(df):\n",
    "    exclude_indices = np.array([])\n",
    "    for location, location_df in df.groupby('location'):\n",
    "        size_stats = {}\n",
    "        for size, size_df in location_df.groupby('size'):\n",
    "            size_stats[size] = {\n",
    "                'mean': np.mean(size_df.price_per_sqft),\n",
    "                'std': np.std(size_df.price_per_sqft),\n",
    "                'count': size_df.shape[0]\n",
    "            }\n",
    "        for size, size_df in location_df.groupby('size'):\n",
    "            stats = size_stats.get(size-1)\n",
    "            if stats and stats['count']>5:\n",
    "                exclude_indices = np.append(exclude_indices, size_df[size_df.price_per_sqft<(stats['mean'])].index.values)\n",
    "    return df.drop(exclude_indices,axis='index')\n",
    "df8 = remove_size_outliers(df7)\n",
    "# df8 = df7.copy()\n",
    "df8.shape"
   ]
  },
  {
   "cell_type": "code",
   "execution_count": 191,
   "id": "add921ef",
   "metadata": {},
   "outputs": [
    {
     "data": {
      "text/plain": [
       "Text(0, 0.5, 'Count')"
      ]
     },
     "execution_count": 191,
     "metadata": {},
     "output_type": "execute_result"
    },
    {
     "data": {
      "image/png": "[encoded data removed]",
      "text/plain": [
       "<Figure size 2000x1000 with 1 Axes>"
      ]
     },
     "metadata": {},
     "output_type": "display_data"
    }
   ],
   "source": [
    "import matplotlib\n",
    "matplotlib.rcParams[\"figure.figsize\"] = (20,10)\n",
    "plt.hist(df8.price_per_sqft,rwidth=0.8)\n",
    "plt.xlabel(\"Price Per Square Feet\")\n",
    "plt.ylabel(\"Count\")"
   ]
  },
  {
   "cell_type": "code",
   "execution_count": 193,
   "id": "a50ac657",
   "metadata": {},
   "outputs": [
    {
     "data": {
      "text/plain": [
       "array([ 0,  3,  2,  4,  5,  7,  1,  6,  8, 10,  9, 12], dtype=int64)"
      ]
     },
     "execution_count": 193,
     "metadata": {},
     "output_type": "execute_result"
    }
   ],
   "source": [
    "df8.baths.unique()"
   ]
  },
  {
   "cell_type": "code",
   "execution_count": 194,
   "id": "ef8ae291",
   "metadata": {},
   "outputs": [
    {
     "data": {
      "text/plain": [
       "Text(0, 0.5, 'Count')"
      ]
     },
     "execution_count": 194,
     "metadata": {},
     "output_type": "execute_result"
    },
    {
     "data": {
      "image/png": "[encoded data removed]",
      "text/plain": [
       "<Figure size 2000x1000 with 1 Axes>"
      ]
     },
     "metadata": {},
     "output_type": "display_data"
    }
   ],
   "source": [
    "plt.hist(df8.baths,rwidth=0.8)\n",
    "plt.xlabel(\"Number of bathrooms\")\n",
    "plt.ylabel(\"Count\")"
   ]
  },
  {
   "cell_type": "code",
   "execution_count": 195,
   "id": "9dc4f45d",
   "metadata": {},
   "outputs": [
    {
     "data": {
      "text/html": [
       "<div>\n",
       "<style scoped>\n",
       "    .dataframe tbody tr th:only-of-type {\n",
       "        vertical-align: middle;\n",
       "    }\n",
       "\n",
       "    .dataframe tbody tr th {\n",
       "        vertical-align: top;\n",
       "    }\n",
       "\n",
       "    .dataframe thead th {\n",
       "        text-align: right;\n",
       "    }\n",
       "</style>\n",
       "<table border=\"1\" class=\"dataframe\">\n",
       "  <thead>\n",
       "    <tr style=\"text-align: right;\">\n",
       "      <th></th>\n",
       "      <th>property_type</th>\n",
       "      <th>price</th>\n",
       "      <th>location</th>\n",
       "      <th>city</th>\n",
       "      <th>province_name</th>\n",
       "      <th>baths</th>\n",
       "      <th>area_marla</th>\n",
       "      <th>area_sqft</th>\n",
       "      <th>purpose</th>\n",
       "      <th>bedrooms</th>\n",
       "      <th>agency</th>\n",
       "      <th>agent</th>\n",
       "      <th>size</th>\n",
       "      <th>size_cat</th>\n",
       "      <th>price_per_sqft</th>\n",
       "      <th>price_per_marla</th>\n",
       "    </tr>\n",
       "  </thead>\n",
       "  <tbody>\n",
       "    <tr>\n",
       "      <th>615</th>\n",
       "      <td>House</td>\n",
       "      <td>95000</td>\n",
       "      <td>H-13</td>\n",
       "      <td>Islamabad</td>\n",
       "      <td>Islamabad Capital</td>\n",
       "      <td>12</td>\n",
       "      <td>9.0</td>\n",
       "      <td>2450.26</td>\n",
       "      <td>For Rent</td>\n",
       "      <td>10</td>\n",
       "      <td>Property Lounge Consultants</td>\n",
       "      <td>Danish Kamal</td>\n",
       "      <td>2304208.0</td>\n",
       "      <td>Marla</td>\n",
       "      <td>38.771396</td>\n",
       "      <td>10555.555556</td>\n",
       "    </tr>\n",
       "  </tbody>\n",
       "</table>\n",
       "</div>"
      ],
      "text/plain": [
       "    property_type  price location       city      province_name  baths  \\\n",
       "615         House  95000     H-13  Islamabad  Islamabad Capital     12   \n",
       "\n",
       "     area_marla  area_sqft   purpose  bedrooms                       agency  \\\n",
       "615         9.0    2450.26  For Rent        10  Property Lounge Consultants   \n",
       "\n",
       "            agent       size size_cat  price_per_sqft  price_per_marla  \n",
       "615  Danish Kamal  2304208.0    Marla       38.771396     10555.555556  "
      ]
     },
     "execution_count": 195,
     "metadata": {},
     "output_type": "execute_result"
    }
   ],
   "source": [
    "df8[df8.baths>10]"
   ]
  },
  {
   "cell_type": "code",
   "execution_count": 196,
   "id": "1a82c161",
   "metadata": {},
   "outputs": [
    {
     "data": {
      "text/html": [
       "<div>\n",
       "<style scoped>\n",
       "    .dataframe tbody tr th:only-of-type {\n",
       "        vertical-align: middle;\n",
       "    }\n",
       "\n",
       "    .dataframe tbody tr th {\n",
       "        vertical-align: top;\n",
       "    }\n",
       "\n",
       "    .dataframe thead th {\n",
       "        text-align: right;\n",
       "    }\n",
       "</style>\n",
       "<table border=\"1\" class=\"dataframe\">\n",
       "  <thead>\n",
       "    <tr style=\"text-align: right;\">\n",
       "      <th></th>\n",
       "      <th>property_type</th>\n",
       "      <th>price</th>\n",
       "      <th>location</th>\n",
       "      <th>city</th>\n",
       "      <th>province_name</th>\n",
       "      <th>baths</th>\n",
       "      <th>area_marla</th>\n",
       "      <th>area_sqft</th>\n",
       "      <th>purpose</th>\n",
       "      <th>bedrooms</th>\n",
       "      <th>agency</th>\n",
       "      <th>agent</th>\n",
       "      <th>size</th>\n",
       "      <th>size_cat</th>\n",
       "      <th>price_per_sqft</th>\n",
       "      <th>price_per_marla</th>\n",
       "    </tr>\n",
       "  </thead>\n",
       "  <tbody>\n",
       "  </tbody>\n",
       "</table>\n",
       "</div>"
      ],
      "text/plain": [
       "Empty DataFrame\n",
       "Columns: [property_type, price, location, city, province_name, baths, area_marla, area_sqft, purpose, bedrooms, agency, agent, size, size_cat, price_per_sqft, price_per_marla]\n",
       "Index: []"
      ]
     },
     "execution_count": 196,
     "metadata": {},
     "output_type": "execute_result"
    }
   ],
   "source": [
    "df8[df8.baths>df8.size+2]"
   ]
  },
  {
   "cell_type": "code",
   "execution_count": 198,
   "id": "3c2a9ee3",
   "metadata": {},
   "outputs": [
    {
     "data": {
      "text/plain": [
       "(901, 16)"
      ]
     },
     "execution_count": 198,
     "metadata": {},
     "output_type": "execute_result"
    }
   ],
   "source": [
    "df9 = df8[df8.baths<df8.size+2]\n",
    "df9.shape"
   ]
  },
  {
   "cell_type": "code",
   "execution_count": 199,
   "id": "98d51df4",
   "metadata": {},
   "outputs": [
    {
     "data": {
      "text/html": [
       "<div>\n",
       "<style scoped>\n",
       "    .dataframe tbody tr th:only-of-type {\n",
       "        vertical-align: middle;\n",
       "    }\n",
       "\n",
       "    .dataframe tbody tr th {\n",
       "        vertical-align: top;\n",
       "    }\n",
       "\n",
       "    .dataframe thead th {\n",
       "        text-align: right;\n",
       "    }\n",
       "</style>\n",
       "<table border=\"1\" class=\"dataframe\">\n",
       "  <thead>\n",
       "    <tr style=\"text-align: right;\">\n",
       "      <th></th>\n",
       "      <th>property_type</th>\n",
       "      <th>price</th>\n",
       "      <th>location</th>\n",
       "      <th>city</th>\n",
       "      <th>province_name</th>\n",
       "      <th>baths</th>\n",
       "      <th>area_marla</th>\n",
       "      <th>area_sqft</th>\n",
       "      <th>purpose</th>\n",
       "      <th>bedrooms</th>\n",
       "      <th>agency</th>\n",
       "      <th>agent</th>\n",
       "      <th>size</th>\n",
       "      <th>size_cat</th>\n",
       "      <th>price_per_sqft</th>\n",
       "      <th>price_per_marla</th>\n",
       "    </tr>\n",
       "  </thead>\n",
       "  <tbody>\n",
       "    <tr>\n",
       "      <th>0</th>\n",
       "      <td>House</td>\n",
       "      <td>35000</td>\n",
       "      <td>Adiala Road</td>\n",
       "      <td>Rawalpindi</td>\n",
       "      <td>Punjab</td>\n",
       "      <td>0</td>\n",
       "      <td>4.0</td>\n",
       "      <td>1089.00</td>\n",
       "      <td>For Rent</td>\n",
       "      <td>5</td>\n",
       "      <td>Al Makkah Property</td>\n",
       "      <td>Pervez Akhtar</td>\n",
       "      <td>2304208.0</td>\n",
       "      <td>Marla</td>\n",
       "      <td>32.139578</td>\n",
       "      <td>8750.0</td>\n",
       "    </tr>\n",
       "    <tr>\n",
       "      <th>1</th>\n",
       "      <td>House</td>\n",
       "      <td>30000</td>\n",
       "      <td>Adiala Road</td>\n",
       "      <td>Rawalpindi</td>\n",
       "      <td>Punjab</td>\n",
       "      <td>0</td>\n",
       "      <td>5.0</td>\n",
       "      <td>1361.25</td>\n",
       "      <td>For Rent</td>\n",
       "      <td>5</td>\n",
       "      <td>Al Makkah Property</td>\n",
       "      <td>Pervez Akhtar</td>\n",
       "      <td>2304208.0</td>\n",
       "      <td>Marla</td>\n",
       "      <td>22.038567</td>\n",
       "      <td>6000.0</td>\n",
       "    </tr>\n",
       "  </tbody>\n",
       "</table>\n",
       "</div>"
      ],
      "text/plain": [
       "  property_type  price     location        city province_name  baths  \\\n",
       "0         House  35000  Adiala Road  Rawalpindi        Punjab      0   \n",
       "1         House  30000  Adiala Road  Rawalpindi        Punjab      0   \n",
       "\n",
       "   area_marla  area_sqft   purpose  bedrooms              agency  \\\n",
       "0         4.0    1089.00  For Rent         5  Al Makkah Property   \n",
       "1         5.0    1361.25  For Rent         5  Al Makkah Property   \n",
       "\n",
       "           agent       size size_cat  price_per_sqft  price_per_marla  \n",
       "0  Pervez Akhtar  2304208.0    Marla       32.139578           8750.0  \n",
       "1  Pervez Akhtar  2304208.0    Marla       22.038567           6000.0  "
      ]
     },
     "execution_count": 199,
     "metadata": {},
     "output_type": "execute_result"
    }
   ],
   "source": [
    "df9.head(2)"
   ]
  },
  {
   "cell_type": "code",
   "execution_count": 280,
   "id": "9b31f1e2",
   "metadata": {},
   "outputs": [
    {
     "data": {
      "text/html": [
       "<div>\n",
       "<style scoped>\n",
       "    .dataframe tbody tr th:only-of-type {\n",
       "        vertical-align: middle;\n",
       "    }\n",
       "\n",
       "    .dataframe tbody tr th {\n",
       "        vertical-align: top;\n",
       "    }\n",
       "\n",
       "    .dataframe thead th {\n",
       "        text-align: right;\n",
       "    }\n",
       "</style>\n",
       "<table border=\"1\" class=\"dataframe\">\n",
       "  <thead>\n",
       "    <tr style=\"text-align: right;\">\n",
       "      <th></th>\n",
       "      <th>property_type</th>\n",
       "      <th>price</th>\n",
       "      <th>location</th>\n",
       "      <th>city</th>\n",
       "      <th>province_name</th>\n",
       "      <th>baths</th>\n",
       "      <th>area_marla</th>\n",
       "      <th>area_sqft</th>\n",
       "      <th>purpose</th>\n",
       "      <th>bedrooms</th>\n",
       "      <th>agency</th>\n",
       "      <th>agent</th>\n",
       "      <th>size_cat</th>\n",
       "    </tr>\n",
       "  </thead>\n",
       "  <tbody>\n",
       "    <tr>\n",
       "      <th>0</th>\n",
       "      <td>House</td>\n",
       "      <td>35000</td>\n",
       "      <td>Adiala Road</td>\n",
       "      <td>Rawalpindi</td>\n",
       "      <td>Punjab</td>\n",
       "      <td>0</td>\n",
       "      <td>4.0</td>\n",
       "      <td>1089.00</td>\n",
       "      <td>For Rent</td>\n",
       "      <td>5</td>\n",
       "      <td>Al Makkah Property</td>\n",
       "      <td>Pervez Akhtar</td>\n",
       "      <td>Marla</td>\n",
       "    </tr>\n",
       "    <tr>\n",
       "      <th>1</th>\n",
       "      <td>House</td>\n",
       "      <td>30000</td>\n",
       "      <td>Adiala Road</td>\n",
       "      <td>Rawalpindi</td>\n",
       "      <td>Punjab</td>\n",
       "      <td>0</td>\n",
       "      <td>5.0</td>\n",
       "      <td>1361.25</td>\n",
       "      <td>For Rent</td>\n",
       "      <td>5</td>\n",
       "      <td>Al Makkah Property</td>\n",
       "      <td>Pervez Akhtar</td>\n",
       "      <td>Marla</td>\n",
       "    </tr>\n",
       "    <tr>\n",
       "      <th>2</th>\n",
       "      <td>House</td>\n",
       "      <td>25000</td>\n",
       "      <td>Al Noor Garden</td>\n",
       "      <td>Faisalabad</td>\n",
       "      <td>Punjab</td>\n",
       "      <td>0</td>\n",
       "      <td>3.0</td>\n",
       "      <td>816.75</td>\n",
       "      <td>For Rent</td>\n",
       "      <td>3</td>\n",
       "      <td>Property Home</td>\n",
       "      <td>Mian Shahid</td>\n",
       "      <td>Marla</td>\n",
       "    </tr>\n",
       "  </tbody>\n",
       "</table>\n",
       "</div>"
      ],
      "text/plain": [
       "  property_type  price        location        city province_name  baths  \\\n",
       "0         House  35000     Adiala Road  Rawalpindi        Punjab      0   \n",
       "1         House  30000     Adiala Road  Rawalpindi        Punjab      0   \n",
       "2         House  25000  Al Noor Garden  Faisalabad        Punjab      0   \n",
       "\n",
       "   area_marla  area_sqft   purpose  bedrooms              agency  \\\n",
       "0         4.0    1089.00  For Rent         5  Al Makkah Property   \n",
       "1         5.0    1361.25  For Rent         5  Al Makkah Property   \n",
       "2         3.0     816.75  For Rent         3       Property Home   \n",
       "\n",
       "           agent size_cat  \n",
       "0  Pervez Akhtar    Marla  \n",
       "1  Pervez Akhtar    Marla  \n",
       "2    Mian Shahid    Marla  "
      ]
     },
     "execution_count": 280,
     "metadata": {},
     "output_type": "execute_result"
    }
   ],
   "source": [
    "df10 = df9.drop(['size','price_per_marla','price_per_sqft'],axis='columns')\n",
    "df10.head(3)"
   ]
  },
  {
   "cell_type": "code",
   "execution_count": 281,
   "id": "34f7f457",
   "metadata": {},
   "outputs": [
    {
     "data": {
      "text/html": [
       "<div>\n",
       "<style scoped>\n",
       "    .dataframe tbody tr th:only-of-type {\n",
       "        vertical-align: middle;\n",
       "    }\n",
       "\n",
       "    .dataframe tbody tr th {\n",
       "        vertical-align: top;\n",
       "    }\n",
       "\n",
       "    .dataframe thead th {\n",
       "        text-align: right;\n",
       "    }\n",
       "</style>\n",
       "<table border=\"1\" class=\"dataframe\">\n",
       "  <thead>\n",
       "    <tr style=\"text-align: right;\">\n",
       "      <th></th>\n",
       "      <th>Adiala Road</th>\n",
       "      <th>Al Noor Garden</th>\n",
       "      <th>Al Rehman Garden</th>\n",
       "      <th>Allama Iqbal Town</th>\n",
       "      <th>BOR - Board of Revenue Housing Society</th>\n",
       "      <th>Bahria Town</th>\n",
       "      <th>Bahria Town Rawalpindi</th>\n",
       "      <th>Bedian Road</th>\n",
       "      <th>Canal Road</th>\n",
       "      <th>Cantt</th>\n",
       "      <th>...</th>\n",
       "      <th>Satellite Town</th>\n",
       "      <th>Scheme 33</th>\n",
       "      <th>Shah Faisal Town</th>\n",
       "      <th>Shalley Valley</th>\n",
       "      <th>Shershah Colony - Raiwind Road</th>\n",
       "      <th>Taj Bagh Scheme</th>\n",
       "      <th>Township</th>\n",
       "      <th>Upper Mall</th>\n",
       "      <th>Walton Road</th>\n",
       "      <th>other</th>\n",
       "    </tr>\n",
       "  </thead>\n",
       "  <tbody>\n",
       "    <tr>\n",
       "      <th>0</th>\n",
       "      <td>1</td>\n",
       "      <td>0</td>\n",
       "      <td>0</td>\n",
       "      <td>0</td>\n",
       "      <td>0</td>\n",
       "      <td>0</td>\n",
       "      <td>0</td>\n",
       "      <td>0</td>\n",
       "      <td>0</td>\n",
       "      <td>0</td>\n",
       "      <td>...</td>\n",
       "      <td>0</td>\n",
       "      <td>0</td>\n",
       "      <td>0</td>\n",
       "      <td>0</td>\n",
       "      <td>0</td>\n",
       "      <td>0</td>\n",
       "      <td>0</td>\n",
       "      <td>0</td>\n",
       "      <td>0</td>\n",
       "      <td>0</td>\n",
       "    </tr>\n",
       "    <tr>\n",
       "      <th>1</th>\n",
       "      <td>1</td>\n",
       "      <td>0</td>\n",
       "      <td>0</td>\n",
       "      <td>0</td>\n",
       "      <td>0</td>\n",
       "      <td>0</td>\n",
       "      <td>0</td>\n",
       "      <td>0</td>\n",
       "      <td>0</td>\n",
       "      <td>0</td>\n",
       "      <td>...</td>\n",
       "      <td>0</td>\n",
       "      <td>0</td>\n",
       "      <td>0</td>\n",
       "      <td>0</td>\n",
       "      <td>0</td>\n",
       "      <td>0</td>\n",
       "      <td>0</td>\n",
       "      <td>0</td>\n",
       "      <td>0</td>\n",
       "      <td>0</td>\n",
       "    </tr>\n",
       "    <tr>\n",
       "      <th>2</th>\n",
       "      <td>0</td>\n",
       "      <td>1</td>\n",
       "      <td>0</td>\n",
       "      <td>0</td>\n",
       "      <td>0</td>\n",
       "      <td>0</td>\n",
       "      <td>0</td>\n",
       "      <td>0</td>\n",
       "      <td>0</td>\n",
       "      <td>0</td>\n",
       "      <td>...</td>\n",
       "      <td>0</td>\n",
       "      <td>0</td>\n",
       "      <td>0</td>\n",
       "      <td>0</td>\n",
       "      <td>0</td>\n",
       "      <td>0</td>\n",
       "      <td>0</td>\n",
       "      <td>0</td>\n",
       "      <td>0</td>\n",
       "      <td>0</td>\n",
       "    </tr>\n",
       "  </tbody>\n",
       "</table>\n",
       "<p>3 rows × 83 columns</p>\n",
       "</div>"
      ],
      "text/plain": [
       "   Adiala Road  Al Noor Garden  Al Rehman Garden  Allama Iqbal Town  \\\n",
       "0            1               0                 0                  0   \n",
       "1            1               0                 0                  0   \n",
       "2            0               1                 0                  0   \n",
       "\n",
       "   BOR - Board of Revenue Housing Society  Bahria Town  \\\n",
       "0                                       0            0   \n",
       "1                                       0            0   \n",
       "2                                       0            0   \n",
       "\n",
       "   Bahria Town Rawalpindi  Bedian Road  Canal Road  Cantt  ...  \\\n",
       "0                       0            0           0      0  ...   \n",
       "1                       0            0           0      0  ...   \n",
       "2                       0            0           0      0  ...   \n",
       "\n",
       "   Satellite Town  Scheme 33  Shah Faisal Town  Shalley Valley  \\\n",
       "0               0          0                 0               0   \n",
       "1               0          0                 0               0   \n",
       "2               0          0                 0               0   \n",
       "\n",
       "   Shershah Colony - Raiwind Road  Taj Bagh Scheme  Township  Upper Mall  \\\n",
       "0                               0                0         0           0   \n",
       "1                               0                0         0           0   \n",
       "2                               0                0         0           0   \n",
       "\n",
       "   Walton Road  other  \n",
       "0            0      0  \n",
       "1            0      0  \n",
       "2            0      0  \n",
       "\n",
       "[3 rows x 83 columns]"
      ]
     },
     "execution_count": 281,
     "metadata": {},
     "output_type": "execute_result"
    }
   ],
   "source": [
    "dummies = pd.get_dummies(df10.location)\n",
    "dummies.head(3)"
   ]
  },
  {
   "cell_type": "code",
   "execution_count": 299,
   "id": "adc54538",
   "metadata": {},
   "outputs": [
    {
     "data": {
      "text/plain": [
       "(900, 95)"
      ]
     },
     "execution_count": 299,
     "metadata": {},
     "output_type": "execute_result"
    }
   ],
   "source": [
    "df11 = df11.drop(df11[df11['baths'] > (df11['bedrooms'] + 2)].index)\n",
    "df11.shape"
   ]
  },
  {
   "cell_type": "code",
   "execution_count": 300,
   "id": "64a57ebb",
   "metadata": {},
   "outputs": [
    {
     "data": {
      "text/html": [
       "<div>\n",
       "<style scoped>\n",
       "    .dataframe tbody tr th:only-of-type {\n",
       "        vertical-align: middle;\n",
       "    }\n",
       "\n",
       "    .dataframe tbody tr th {\n",
       "        vertical-align: top;\n",
       "    }\n",
       "\n",
       "    .dataframe thead th {\n",
       "        text-align: right;\n",
       "    }\n",
       "</style>\n",
       "<table border=\"1\" class=\"dataframe\">\n",
       "  <thead>\n",
       "    <tr style=\"text-align: right;\">\n",
       "      <th></th>\n",
       "      <th>property_type</th>\n",
       "      <th>price</th>\n",
       "      <th>location</th>\n",
       "      <th>city</th>\n",
       "      <th>province_name</th>\n",
       "      <th>baths</th>\n",
       "      <th>area_marla</th>\n",
       "      <th>area_sqft</th>\n",
       "      <th>purpose</th>\n",
       "      <th>bedrooms</th>\n",
       "      <th>...</th>\n",
       "      <th>Samanabad</th>\n",
       "      <th>Satellite Town</th>\n",
       "      <th>Scheme 33</th>\n",
       "      <th>Shah Faisal Town</th>\n",
       "      <th>Shalley Valley</th>\n",
       "      <th>Shershah Colony - Raiwind Road</th>\n",
       "      <th>Taj Bagh Scheme</th>\n",
       "      <th>Township</th>\n",
       "      <th>Upper Mall</th>\n",
       "      <th>Walton Road</th>\n",
       "    </tr>\n",
       "  </thead>\n",
       "  <tbody>\n",
       "    <tr>\n",
       "      <th>0</th>\n",
       "      <td>House</td>\n",
       "      <td>35000</td>\n",
       "      <td>Adiala Road</td>\n",
       "      <td>Rawalpindi</td>\n",
       "      <td>Punjab</td>\n",
       "      <td>0</td>\n",
       "      <td>4.0</td>\n",
       "      <td>1089.00</td>\n",
       "      <td>For Rent</td>\n",
       "      <td>5</td>\n",
       "      <td>...</td>\n",
       "      <td>0</td>\n",
       "      <td>0</td>\n",
       "      <td>0</td>\n",
       "      <td>0</td>\n",
       "      <td>0</td>\n",
       "      <td>0</td>\n",
       "      <td>0</td>\n",
       "      <td>0</td>\n",
       "      <td>0</td>\n",
       "      <td>0</td>\n",
       "    </tr>\n",
       "    <tr>\n",
       "      <th>1</th>\n",
       "      <td>House</td>\n",
       "      <td>30000</td>\n",
       "      <td>Adiala Road</td>\n",
       "      <td>Rawalpindi</td>\n",
       "      <td>Punjab</td>\n",
       "      <td>0</td>\n",
       "      <td>5.0</td>\n",
       "      <td>1361.25</td>\n",
       "      <td>For Rent</td>\n",
       "      <td>5</td>\n",
       "      <td>...</td>\n",
       "      <td>0</td>\n",
       "      <td>0</td>\n",
       "      <td>0</td>\n",
       "      <td>0</td>\n",
       "      <td>0</td>\n",
       "      <td>0</td>\n",
       "      <td>0</td>\n",
       "      <td>0</td>\n",
       "      <td>0</td>\n",
       "      <td>0</td>\n",
       "    </tr>\n",
       "    <tr>\n",
       "      <th>2</th>\n",
       "      <td>House</td>\n",
       "      <td>25000</td>\n",
       "      <td>Al Noor Garden</td>\n",
       "      <td>Faisalabad</td>\n",
       "      <td>Punjab</td>\n",
       "      <td>0</td>\n",
       "      <td>3.0</td>\n",
       "      <td>816.75</td>\n",
       "      <td>For Rent</td>\n",
       "      <td>3</td>\n",
       "      <td>...</td>\n",
       "      <td>0</td>\n",
       "      <td>0</td>\n",
       "      <td>0</td>\n",
       "      <td>0</td>\n",
       "      <td>0</td>\n",
       "      <td>0</td>\n",
       "      <td>0</td>\n",
       "      <td>0</td>\n",
       "      <td>0</td>\n",
       "      <td>0</td>\n",
       "    </tr>\n",
       "    <tr>\n",
       "      <th>3</th>\n",
       "      <td>House</td>\n",
       "      <td>18000</td>\n",
       "      <td>Al Rehman Garden</td>\n",
       "      <td>Lahore</td>\n",
       "      <td>Punjab</td>\n",
       "      <td>3</td>\n",
       "      <td>3.0</td>\n",
       "      <td>816.75</td>\n",
       "      <td>For Rent</td>\n",
       "      <td>3</td>\n",
       "      <td>...</td>\n",
       "      <td>0</td>\n",
       "      <td>0</td>\n",
       "      <td>0</td>\n",
       "      <td>0</td>\n",
       "      <td>0</td>\n",
       "      <td>0</td>\n",
       "      <td>0</td>\n",
       "      <td>0</td>\n",
       "      <td>0</td>\n",
       "      <td>0</td>\n",
       "    </tr>\n",
       "    <tr>\n",
       "      <th>4</th>\n",
       "      <td>House</td>\n",
       "      <td>18000</td>\n",
       "      <td>Al Rehman Garden</td>\n",
       "      <td>Lahore</td>\n",
       "      <td>Punjab</td>\n",
       "      <td>3</td>\n",
       "      <td>3.0</td>\n",
       "      <td>816.75</td>\n",
       "      <td>For Rent</td>\n",
       "      <td>3</td>\n",
       "      <td>...</td>\n",
       "      <td>0</td>\n",
       "      <td>0</td>\n",
       "      <td>0</td>\n",
       "      <td>0</td>\n",
       "      <td>0</td>\n",
       "      <td>0</td>\n",
       "      <td>0</td>\n",
       "      <td>0</td>\n",
       "      <td>0</td>\n",
       "      <td>0</td>\n",
       "    </tr>\n",
       "  </tbody>\n",
       "</table>\n",
       "<p>5 rows × 95 columns</p>\n",
       "</div>"
      ],
      "text/plain": [
       "  property_type  price          location        city province_name  baths  \\\n",
       "0         House  35000       Adiala Road  Rawalpindi        Punjab      0   \n",
       "1         House  30000       Adiala Road  Rawalpindi        Punjab      0   \n",
       "2         House  25000    Al Noor Garden  Faisalabad        Punjab      0   \n",
       "3         House  18000  Al Rehman Garden      Lahore        Punjab      3   \n",
       "4         House  18000  Al Rehman Garden      Lahore        Punjab      3   \n",
       "\n",
       "   area_marla  area_sqft   purpose  bedrooms  ... Samanabad Satellite Town  \\\n",
       "0         4.0    1089.00  For Rent         5  ...         0              0   \n",
       "1         5.0    1361.25  For Rent         5  ...         0              0   \n",
       "2         3.0     816.75  For Rent         3  ...         0              0   \n",
       "3         3.0     816.75  For Rent         3  ...         0              0   \n",
       "4         3.0     816.75  For Rent         3  ...         0              0   \n",
       "\n",
       "  Scheme 33  Shah Faisal Town  Shalley Valley  Shershah Colony - Raiwind Road  \\\n",
       "0         0                 0               0                               0   \n",
       "1         0                 0               0                               0   \n",
       "2         0                 0               0                               0   \n",
       "3         0                 0               0                               0   \n",
       "4         0                 0               0                               0   \n",
       "\n",
       "   Taj Bagh Scheme  Township  Upper Mall  Walton Road  \n",
       "0                0         0           0            0  \n",
       "1                0         0           0            0  \n",
       "2                0         0           0            0  \n",
       "3                0         0           0            0  \n",
       "4                0         0           0            0  \n",
       "\n",
       "[5 rows x 95 columns]"
      ]
     },
     "execution_count": 300,
     "metadata": {},
     "output_type": "execute_result"
    }
   ],
   "source": [
    "df11 = pd.concat([df10,dummies.drop('other',axis='columns')],axis='columns')\n",
    "df11.head()"
   ]
  },
  {
   "cell_type": "code",
   "execution_count": 301,
   "id": "8ffb2432",
   "metadata": {},
   "outputs": [
    {
     "data": {
      "text/plain": [
       "(901, 95)"
      ]
     },
     "execution_count": 301,
     "metadata": {},
     "output_type": "execute_result"
    }
   ],
   "source": [
    "df11.shape"
   ]
  },
  {
   "cell_type": "code",
   "execution_count": 302,
   "id": "a8122e79",
   "metadata": {},
   "outputs": [
    {
     "data": {
      "text/html": [
       "<div>\n",
       "<style scoped>\n",
       "    .dataframe tbody tr th:only-of-type {\n",
       "        vertical-align: middle;\n",
       "    }\n",
       "\n",
       "    .dataframe tbody tr th {\n",
       "        vertical-align: top;\n",
       "    }\n",
       "\n",
       "    .dataframe thead th {\n",
       "        text-align: right;\n",
       "    }\n",
       "</style>\n",
       "<table border=\"1\" class=\"dataframe\">\n",
       "  <thead>\n",
       "    <tr style=\"text-align: right;\">\n",
       "      <th></th>\n",
       "      <th>price</th>\n",
       "      <th>baths</th>\n",
       "      <th>area_marla</th>\n",
       "      <th>area_sqft</th>\n",
       "      <th>bedrooms</th>\n",
       "      <th>Adiala Road</th>\n",
       "      <th>Al Noor Garden</th>\n",
       "      <th>Al Rehman Garden</th>\n",
       "      <th>Allama Iqbal Town</th>\n",
       "      <th>BOR - Board of Revenue Housing Society</th>\n",
       "      <th>...</th>\n",
       "      <th>Samanabad</th>\n",
       "      <th>Satellite Town</th>\n",
       "      <th>Scheme 33</th>\n",
       "      <th>Shah Faisal Town</th>\n",
       "      <th>Shalley Valley</th>\n",
       "      <th>Shershah Colony - Raiwind Road</th>\n",
       "      <th>Taj Bagh Scheme</th>\n",
       "      <th>Township</th>\n",
       "      <th>Upper Mall</th>\n",
       "      <th>Walton Road</th>\n",
       "    </tr>\n",
       "  </thead>\n",
       "  <tbody>\n",
       "    <tr>\n",
       "      <th>0</th>\n",
       "      <td>35000</td>\n",
       "      <td>0</td>\n",
       "      <td>4.0</td>\n",
       "      <td>1089.00</td>\n",
       "      <td>5</td>\n",
       "      <td>1</td>\n",
       "      <td>0</td>\n",
       "      <td>0</td>\n",
       "      <td>0</td>\n",
       "      <td>0</td>\n",
       "      <td>...</td>\n",
       "      <td>0</td>\n",
       "      <td>0</td>\n",
       "      <td>0</td>\n",
       "      <td>0</td>\n",
       "      <td>0</td>\n",
       "      <td>0</td>\n",
       "      <td>0</td>\n",
       "      <td>0</td>\n",
       "      <td>0</td>\n",
       "      <td>0</td>\n",
       "    </tr>\n",
       "    <tr>\n",
       "      <th>1</th>\n",
       "      <td>30000</td>\n",
       "      <td>0</td>\n",
       "      <td>5.0</td>\n",
       "      <td>1361.25</td>\n",
       "      <td>5</td>\n",
       "      <td>1</td>\n",
       "      <td>0</td>\n",
       "      <td>0</td>\n",
       "      <td>0</td>\n",
       "      <td>0</td>\n",
       "      <td>...</td>\n",
       "      <td>0</td>\n",
       "      <td>0</td>\n",
       "      <td>0</td>\n",
       "      <td>0</td>\n",
       "      <td>0</td>\n",
       "      <td>0</td>\n",
       "      <td>0</td>\n",
       "      <td>0</td>\n",
       "      <td>0</td>\n",
       "      <td>0</td>\n",
       "    </tr>\n",
       "  </tbody>\n",
       "</table>\n",
       "<p>2 rows × 87 columns</p>\n",
       "</div>"
      ],
      "text/plain": [
       "   price  baths  area_marla  area_sqft  bedrooms  Adiala Road  Al Noor Garden  \\\n",
       "0  35000      0         4.0    1089.00         5            1               0   \n",
       "1  30000      0         5.0    1361.25         5            1               0   \n",
       "\n",
       "   Al Rehman Garden  Allama Iqbal Town  \\\n",
       "0                 0                  0   \n",
       "1                 0                  0   \n",
       "\n",
       "   BOR - Board of Revenue Housing Society  ...  Samanabad  Satellite Town  \\\n",
       "0                                       0  ...          0               0   \n",
       "1                                       0  ...          0               0   \n",
       "\n",
       "   Scheme 33  Shah Faisal Town  Shalley Valley  \\\n",
       "0          0                 0               0   \n",
       "1          0                 0               0   \n",
       "\n",
       "   Shershah Colony - Raiwind Road  Taj Bagh Scheme  Township  Upper Mall  \\\n",
       "0                               0                0         0           0   \n",
       "1                               0                0         0           0   \n",
       "\n",
       "   Walton Road  \n",
       "0            0  \n",
       "1            0  \n",
       "\n",
       "[2 rows x 87 columns]"
      ]
     },
     "execution_count": 302,
     "metadata": {},
     "output_type": "execute_result"
    }
   ],
   "source": [
    "df12 = df11.drop(['location','property_type', 'city', 'province_name','purpose','purpose','agency','agent','size_cat'],axis='columns')\n",
    "df12.head(2)"
   ]
  },
  {
   "cell_type": "code",
   "execution_count": 303,
   "id": "9251a9ca",
   "metadata": {},
   "outputs": [
    {
     "data": {
      "text/plain": [
       "(901, 87)"
      ]
     },
     "execution_count": 303,
     "metadata": {},
     "output_type": "execute_result"
    }
   ],
   "source": [
    "df12.shape"
   ]
  },
  {
   "cell_type": "code",
   "execution_count": 304,
   "id": "53269d34",
   "metadata": {},
   "outputs": [
    {
     "data": {
      "text/html": [
       "<div>\n",
       "<style scoped>\n",
       "    .dataframe tbody tr th:only-of-type {\n",
       "        vertical-align: middle;\n",
       "    }\n",
       "\n",
       "    .dataframe tbody tr th {\n",
       "        vertical-align: top;\n",
       "    }\n",
       "\n",
       "    .dataframe thead th {\n",
       "        text-align: right;\n",
       "    }\n",
       "</style>\n",
       "<table border=\"1\" class=\"dataframe\">\n",
       "  <thead>\n",
       "    <tr style=\"text-align: right;\">\n",
       "      <th></th>\n",
       "      <th>baths</th>\n",
       "      <th>area_marla</th>\n",
       "      <th>area_sqft</th>\n",
       "      <th>bedrooms</th>\n",
       "      <th>Adiala Road</th>\n",
       "      <th>Al Noor Garden</th>\n",
       "      <th>Al Rehman Garden</th>\n",
       "      <th>Allama Iqbal Town</th>\n",
       "      <th>BOR - Board of Revenue Housing Society</th>\n",
       "      <th>Bahria Town</th>\n",
       "      <th>...</th>\n",
       "      <th>Samanabad</th>\n",
       "      <th>Satellite Town</th>\n",
       "      <th>Scheme 33</th>\n",
       "      <th>Shah Faisal Town</th>\n",
       "      <th>Shalley Valley</th>\n",
       "      <th>Shershah Colony - Raiwind Road</th>\n",
       "      <th>Taj Bagh Scheme</th>\n",
       "      <th>Township</th>\n",
       "      <th>Upper Mall</th>\n",
       "      <th>Walton Road</th>\n",
       "    </tr>\n",
       "  </thead>\n",
       "  <tbody>\n",
       "    <tr>\n",
       "      <th>0</th>\n",
       "      <td>0</td>\n",
       "      <td>4.0</td>\n",
       "      <td>1089.00</td>\n",
       "      <td>5</td>\n",
       "      <td>1</td>\n",
       "      <td>0</td>\n",
       "      <td>0</td>\n",
       "      <td>0</td>\n",
       "      <td>0</td>\n",
       "      <td>0</td>\n",
       "      <td>...</td>\n",
       "      <td>0</td>\n",
       "      <td>0</td>\n",
       "      <td>0</td>\n",
       "      <td>0</td>\n",
       "      <td>0</td>\n",
       "      <td>0</td>\n",
       "      <td>0</td>\n",
       "      <td>0</td>\n",
       "      <td>0</td>\n",
       "      <td>0</td>\n",
       "    </tr>\n",
       "    <tr>\n",
       "      <th>1</th>\n",
       "      <td>0</td>\n",
       "      <td>5.0</td>\n",
       "      <td>1361.25</td>\n",
       "      <td>5</td>\n",
       "      <td>1</td>\n",
       "      <td>0</td>\n",
       "      <td>0</td>\n",
       "      <td>0</td>\n",
       "      <td>0</td>\n",
       "      <td>0</td>\n",
       "      <td>...</td>\n",
       "      <td>0</td>\n",
       "      <td>0</td>\n",
       "      <td>0</td>\n",
       "      <td>0</td>\n",
       "      <td>0</td>\n",
       "      <td>0</td>\n",
       "      <td>0</td>\n",
       "      <td>0</td>\n",
       "      <td>0</td>\n",
       "      <td>0</td>\n",
       "    </tr>\n",
       "    <tr>\n",
       "      <th>2</th>\n",
       "      <td>0</td>\n",
       "      <td>3.0</td>\n",
       "      <td>816.75</td>\n",
       "      <td>3</td>\n",
       "      <td>0</td>\n",
       "      <td>1</td>\n",
       "      <td>0</td>\n",
       "      <td>0</td>\n",
       "      <td>0</td>\n",
       "      <td>0</td>\n",
       "      <td>...</td>\n",
       "      <td>0</td>\n",
       "      <td>0</td>\n",
       "      <td>0</td>\n",
       "      <td>0</td>\n",
       "      <td>0</td>\n",
       "      <td>0</td>\n",
       "      <td>0</td>\n",
       "      <td>0</td>\n",
       "      <td>0</td>\n",
       "      <td>0</td>\n",
       "    </tr>\n",
       "  </tbody>\n",
       "</table>\n",
       "<p>3 rows × 86 columns</p>\n",
       "</div>"
      ],
      "text/plain": [
       "   baths  area_marla  area_sqft  bedrooms  Adiala Road  Al Noor Garden  \\\n",
       "0      0         4.0    1089.00         5            1               0   \n",
       "1      0         5.0    1361.25         5            1               0   \n",
       "2      0         3.0     816.75         3            0               1   \n",
       "\n",
       "   Al Rehman Garden  Allama Iqbal Town  \\\n",
       "0                 0                  0   \n",
       "1                 0                  0   \n",
       "2                 0                  0   \n",
       "\n",
       "   BOR - Board of Revenue Housing Society  Bahria Town  ...  Samanabad  \\\n",
       "0                                       0            0  ...          0   \n",
       "1                                       0            0  ...          0   \n",
       "2                                       0            0  ...          0   \n",
       "\n",
       "   Satellite Town  Scheme 33  Shah Faisal Town  Shalley Valley  \\\n",
       "0               0          0                 0               0   \n",
       "1               0          0                 0               0   \n",
       "2               0          0                 0               0   \n",
       "\n",
       "   Shershah Colony - Raiwind Road  Taj Bagh Scheme  Township  Upper Mall  \\\n",
       "0                               0                0         0           0   \n",
       "1                               0                0         0           0   \n",
       "2                               0                0         0           0   \n",
       "\n",
       "   Walton Road  \n",
       "0            0  \n",
       "1            0  \n",
       "2            0  \n",
       "\n",
       "[3 rows x 86 columns]"
      ]
     },
     "execution_count": 304,
     "metadata": {},
     "output_type": "execute_result"
    }
   ],
   "source": [
    "X = df12.drop(['price'],axis='columns')\n",
    "X.head(3)"
   ]
  },
  {
   "cell_type": "code",
   "execution_count": 305,
   "id": "14e762b3",
   "metadata": {},
   "outputs": [
    {
     "data": {
      "text/plain": [
       "(901, 86)"
      ]
     },
     "execution_count": 305,
     "metadata": {},
     "output_type": "execute_result"
    }
   ],
   "source": [
    "X.shape"
   ]
  },
  {
   "cell_type": "code",
   "execution_count": 306,
   "id": "cca13c0b",
   "metadata": {},
   "outputs": [
    {
     "data": {
      "text/plain": [
       "0    35000\n",
       "1    30000\n",
       "2    25000\n",
       "Name: price, dtype: int64"
      ]
     },
     "execution_count": 306,
     "metadata": {},
     "output_type": "execute_result"
    }
   ],
   "source": [
    "y = df12.price\n",
    "y.head(3)"
   ]
  },
  {
   "cell_type": "code",
   "execution_count": 307,
   "id": "ca897ac5",
   "metadata": {},
   "outputs": [
    {
     "data": {
      "text/plain": [
       "901"
      ]
     },
     "execution_count": 307,
     "metadata": {},
     "output_type": "execute_result"
    }
   ],
   "source": [
    "len(y)"
   ]
  },
  {
   "cell_type": "code",
   "execution_count": 353,
   "id": "45e857b4",
   "metadata": {},
   "outputs": [],
   "source": [
    "from sklearn.model_selection import train_test_split\n",
    "X_train, X_test, y_train, y_test = train_test_split(X,y,test_size=0.2,random_state=10)"
   ]
  },
  {
   "cell_type": "code",
   "execution_count": 355,
   "id": "fd39f406",
   "metadata": {},
   "outputs": [
    {
     "data": {
      "text/plain": [
       "0.6576189831181554"
      ]
     },
     "execution_count": 355,
     "metadata": {},
     "output_type": "execute_result"
    }
   ],
   "source": [
    "from sklearn.linear_model import LinearRegression\n",
    "lr_clf = LinearRegression()\n",
    "lr_clf.fit(X_train,y_train)\n",
    "lr_clf.score(X_test,y_test)"
   ]
  },
  {
   "cell_type": "code",
   "execution_count": 356,
   "id": "18f9984b",
   "metadata": {},
   "outputs": [
    {
     "data": {
      "text/plain": [
       "array([ 6.44645222e-01,  6.66478014e-01,  5.08504679e-01, -6.22001724e+17,\n",
       "        6.41460242e-01])"
      ]
     },
     "execution_count": 356,
     "metadata": {},
     "output_type": "execute_result"
    }
   ],
   "source": [
    "from sklearn.model_selection import ShuffleSplit\n",
    "from sklearn.model_selection import cross_val_score\n",
    "\n",
    "cv = ShuffleSplit(n_splits=5, test_size=0.2, random_state=0)\n",
    "\n",
    "cross_val_score(LinearRegression(), X, y, cv=cv)"
   ]
  },
  {
   "cell_type": "code",
   "execution_count": 357,
   "id": "acf4e298",
   "metadata": {},
   "outputs": [
    {
     "name": "stderr",
     "output_type": "stream",
     "text": [
      "C:\\Users\\admin\\anaconda3\\lib\\site-packages\\sklearn\\linear_model\\_base.py:141: FutureWarning: 'normalize' was deprecated in version 1.0 and will be removed in 1.2.\n",
      "If you wish to scale the data, use Pipeline with a StandardScaler in a preprocessing stage. To reproduce the previous behavior:\n",
      "\n",
      "from sklearn.pipeline import make_pipeline\n",
      "\n",
      "model = make_pipeline(StandardScaler(with_mean=False), LinearRegression())\n",
      "\n",
      "If you wish to pass a sample_weight parameter, you need to pass it as a fit parameter to each step of the pipeline as follows:\n",
      "\n",
      "kwargs = {s[0] + '__sample_weight': sample_weight for s in model.steps}\n",
      "model.fit(X, y, **kwargs)\n",
      "\n",
      "\n",
      "  warnings.warn(\n",
      "C:\\Users\\admin\\anaconda3\\lib\\site-packages\\sklearn\\linear_model\\_base.py:141: FutureWarning: 'normalize' was deprecated in version 1.0 and will be removed in 1.2.\n",
      "If you wish to scale the data, use Pipeline with a StandardScaler in a preprocessing stage. To reproduce the previous behavior:\n",
      "\n",
      "from sklearn.pipeline import make_pipeline\n",
      "\n",
      "model = make_pipeline(StandardScaler(with_mean=False), LinearRegression())\n",
      "\n",
      "If you wish to pass a sample_weight parameter, you need to pass it as a fit parameter to each step of the pipeline as follows:\n",
      "\n",
      "kwargs = {s[0] + '__sample_weight': sample_weight for s in model.steps}\n",
      "model.fit(X, y, **kwargs)\n",
      "\n",
      "\n",
      "  warnings.warn(\n",
      "C:\\Users\\admin\\anaconda3\\lib\\site-packages\\sklearn\\linear_model\\_base.py:141: FutureWarning: 'normalize' was deprecated in version 1.0 and will be removed in 1.2.\n",
      "If you wish to scale the data, use Pipeline with a StandardScaler in a preprocessing stage. To reproduce the previous behavior:\n",
      "\n",
      "from sklearn.pipeline import make_pipeline\n",
      "\n",
      "model = make_pipeline(StandardScaler(with_mean=False), LinearRegression())\n",
      "\n",
      "If you wish to pass a sample_weight parameter, you need to pass it as a fit parameter to each step of the pipeline as follows:\n",
      "\n",
      "kwargs = {s[0] + '__sample_weight': sample_weight for s in model.steps}\n",
      "model.fit(X, y, **kwargs)\n",
      "\n",
      "\n",
      "  warnings.warn(\n",
      "C:\\Users\\admin\\anaconda3\\lib\\site-packages\\sklearn\\linear_model\\_base.py:141: FutureWarning: 'normalize' was deprecated in version 1.0 and will be removed in 1.2.\n",
      "If you wish to scale the data, use Pipeline with a StandardScaler in a preprocessing stage. To reproduce the previous behavior:\n",
      "\n",
      "from sklearn.pipeline import make_pipeline\n",
      "\n",
      "model = make_pipeline(StandardScaler(with_mean=False), LinearRegression())\n",
      "\n",
      "If you wish to pass a sample_weight parameter, you need to pass it as a fit parameter to each step of the pipeline as follows:\n",
      "\n",
      "kwargs = {s[0] + '__sample_weight': sample_weight for s in model.steps}\n",
      "model.fit(X, y, **kwargs)\n",
      "\n",
      "\n",
      "  warnings.warn(\n",
      "C:\\Users\\admin\\anaconda3\\lib\\site-packages\\sklearn\\linear_model\\_base.py:141: FutureWarning: 'normalize' was deprecated in version 1.0 and will be removed in 1.2.\n",
      "If you wish to scale the data, use Pipeline with a StandardScaler in a preprocessing stage. To reproduce the previous behavior:\n",
      "\n",
      "from sklearn.pipeline import make_pipeline\n",
      "\n",
      "model = make_pipeline(StandardScaler(with_mean=False), LinearRegression())\n",
      "\n",
      "If you wish to pass a sample_weight parameter, you need to pass it as a fit parameter to each step of the pipeline as follows:\n",
      "\n",
      "kwargs = {s[0] + '__sample_weight': sample_weight for s in model.steps}\n",
      "model.fit(X, y, **kwargs)\n",
      "\n",
      "\n",
      "  warnings.warn(\n",
      "C:\\Users\\admin\\anaconda3\\lib\\site-packages\\sklearn\\linear_model\\_base.py:148: FutureWarning: 'normalize' was deprecated in version 1.0 and will be removed in 1.2. Please leave the normalize parameter to its default value to silence this warning. The default behavior of this estimator is to not do any normalization. If normalization is needed please use sklearn.preprocessing.StandardScaler instead.\n",
      "  warnings.warn(\n",
      "C:\\Users\\admin\\anaconda3\\lib\\site-packages\\sklearn\\linear_model\\_base.py:148: FutureWarning: 'normalize' was deprecated in version 1.0 and will be removed in 1.2. Please leave the normalize parameter to its default value to silence this warning. The default behavior of this estimator is to not do any normalization. If normalization is needed please use sklearn.preprocessing.StandardScaler instead.\n",
      "  warnings.warn(\n",
      "C:\\Users\\admin\\anaconda3\\lib\\site-packages\\sklearn\\linear_model\\_base.py:148: FutureWarning: 'normalize' was deprecated in version 1.0 and will be removed in 1.2. Please leave the normalize parameter to its default value to silence this warning. The default behavior of this estimator is to not do any normalization. If normalization is needed please use sklearn.preprocessing.StandardScaler instead.\n",
      "  warnings.warn(\n",
      "C:\\Users\\admin\\anaconda3\\lib\\site-packages\\sklearn\\linear_model\\_base.py:148: FutureWarning: 'normalize' was deprecated in version 1.0 and will be removed in 1.2. Please leave the normalize parameter to its default value to silence this warning. The default behavior of this estimator is to not do any normalization. If normalization is needed please use sklearn.preprocessing.StandardScaler instead.\n",
      "  warnings.warn(\n",
      "C:\\Users\\admin\\anaconda3\\lib\\site-packages\\sklearn\\linear_model\\_base.py:148: FutureWarning: 'normalize' was deprecated in version 1.0 and will be removed in 1.2. Please leave the normalize parameter to its default value to silence this warning. The default behavior of this estimator is to not do any normalization. If normalization is needed please use sklearn.preprocessing.StandardScaler instead.\n",
      "  warnings.warn(\n",
      "C:\\Users\\admin\\anaconda3\\lib\\site-packages\\sklearn\\linear_model\\_base.py:148: FutureWarning: 'normalize' was deprecated in version 1.0 and will be removed in 1.2. Please leave the normalize parameter to its default value to silence this warning. The default behavior of this estimator is to not do any normalization. If normalization is needed please use sklearn.preprocessing.StandardScaler instead.\n",
      "  warnings.warn(\n",
      "C:\\Users\\admin\\anaconda3\\lib\\site-packages\\sklearn\\linear_model\\_coordinate_descent.py:647: ConvergenceWarning: Objective did not converge. You might want to increase the number of iterations, check the scale of the features or consider increasing regularisation. Duality gap: 9.980e+10, tolerance: 9.728e+07\n",
      "  model = cd_fast.enet_coordinate_descent(\n",
      "C:\\Users\\admin\\anaconda3\\lib\\site-packages\\sklearn\\linear_model\\_coordinate_descent.py:647: ConvergenceWarning: Objective did not converge. You might want to increase the number of iterations, check the scale of the features or consider increasing regularisation. Duality gap: 9.086e+10, tolerance: 8.835e+07\n",
      "  model = cd_fast.enet_coordinate_descent(\n",
      "C:\\Users\\admin\\anaconda3\\lib\\site-packages\\sklearn\\linear_model\\_coordinate_descent.py:647: ConvergenceWarning: Objective did not converge. You might want to increase the number of iterations, check the scale of the features or consider increasing regularisation. Duality gap: 8.760e+10, tolerance: 8.764e+07\n",
      "  model = cd_fast.enet_coordinate_descent(\n",
      "C:\\Users\\admin\\anaconda3\\lib\\site-packages\\sklearn\\linear_model\\_coordinate_descent.py:647: ConvergenceWarning: Objective did not converge. You might want to increase the number of iterations, check the scale of the features or consider increasing regularisation. Duality gap: 9.655e+10, tolerance: 8.352e+07\n",
      "  model = cd_fast.enet_coordinate_descent(\n",
      "C:\\Users\\admin\\anaconda3\\lib\\site-packages\\sklearn\\tree\\_classes.py:359: FutureWarning: Criterion 'mse' was deprecated in v1.0 and will be removed in version 1.2. Use `criterion='squared_error'` which is equivalent.\n",
      "  warnings.warn(\n",
      "C:\\Users\\admin\\anaconda3\\lib\\site-packages\\sklearn\\tree\\_classes.py:359: FutureWarning: Criterion 'mse' was deprecated in v1.0 and will be removed in version 1.2. Use `criterion='squared_error'` which is equivalent.\n",
      "  warnings.warn(\n",
      "C:\\Users\\admin\\anaconda3\\lib\\site-packages\\sklearn\\tree\\_classes.py:359: FutureWarning: Criterion 'mse' was deprecated in v1.0 and will be removed in version 1.2. Use `criterion='squared_error'` which is equivalent.\n",
      "  warnings.warn(\n",
      "C:\\Users\\admin\\anaconda3\\lib\\site-packages\\sklearn\\tree\\_classes.py:359: FutureWarning: Criterion 'mse' was deprecated in v1.0 and will be removed in version 1.2. Use `criterion='squared_error'` which is equivalent.\n",
      "  warnings.warn(\n",
      "C:\\Users\\admin\\anaconda3\\lib\\site-packages\\sklearn\\tree\\_classes.py:359: FutureWarning: Criterion 'mse' was deprecated in v1.0 and will be removed in version 1.2. Use `criterion='squared_error'` which is equivalent.\n",
      "  warnings.warn(\n",
      "C:\\Users\\admin\\anaconda3\\lib\\site-packages\\sklearn\\tree\\_classes.py:359: FutureWarning: Criterion 'mse' was deprecated in v1.0 and will be removed in version 1.2. Use `criterion='squared_error'` which is equivalent.\n",
      "  warnings.warn(\n",
      "C:\\Users\\admin\\anaconda3\\lib\\site-packages\\sklearn\\tree\\_classes.py:359: FutureWarning: Criterion 'mse' was deprecated in v1.0 and will be removed in version 1.2. Use `criterion='squared_error'` which is equivalent.\n",
      "  warnings.warn(\n",
      "C:\\Users\\admin\\anaconda3\\lib\\site-packages\\sklearn\\tree\\_classes.py:359: FutureWarning: Criterion 'mse' was deprecated in v1.0 and will be removed in version 1.2. Use `criterion='squared_error'` which is equivalent.\n",
      "  warnings.warn(\n",
      "C:\\Users\\admin\\anaconda3\\lib\\site-packages\\sklearn\\tree\\_classes.py:359: FutureWarning: Criterion 'mse' was deprecated in v1.0 and will be removed in version 1.2. Use `criterion='squared_error'` which is equivalent.\n",
      "  warnings.warn(\n",
      "C:\\Users\\admin\\anaconda3\\lib\\site-packages\\sklearn\\tree\\_classes.py:359: FutureWarning: Criterion 'mse' was deprecated in v1.0 and will be removed in version 1.2. Use `criterion='squared_error'` which is equivalent.\n",
      "  warnings.warn(\n"
     ]
    },
    {
     "data": {
      "text/html": [
       "<div>\n",
       "<style scoped>\n",
       "    .dataframe tbody tr th:only-of-type {\n",
       "        vertical-align: middle;\n",
       "    }\n",
       "\n",
       "    .dataframe tbody tr th {\n",
       "        vertical-align: top;\n",
       "    }\n",
       "\n",
       "    .dataframe thead th {\n",
       "        text-align: right;\n",
       "    }\n",
       "</style>\n",
       "<table border=\"1\" class=\"dataframe\">\n",
       "  <thead>\n",
       "    <tr style=\"text-align: right;\">\n",
       "      <th></th>\n",
       "      <th>model</th>\n",
       "      <th>best_score</th>\n",
       "      <th>best_params</th>\n",
       "    </tr>\n",
       "  </thead>\n",
       "  <tbody>\n",
       "    <tr>\n",
       "      <th>0</th>\n",
       "      <td>linear_regression</td>\n",
       "      <td>-1.244003e+17</td>\n",
       "      <td>{'normalize': False}</td>\n",
       "    </tr>\n",
       "    <tr>\n",
       "      <th>1</th>\n",
       "      <td>lasso</td>\n",
       "      <td>6.461642e-01</td>\n",
       "      <td>{'alpha': 2, 'selection': 'cyclic'}</td>\n",
       "    </tr>\n",
       "    <tr>\n",
       "      <th>2</th>\n",
       "      <td>decision_tree</td>\n",
       "      <td>7.037149e-01</td>\n",
       "      <td>{'criterion': 'friedman_mse', 'splitter': 'best'}</td>\n",
       "    </tr>\n",
       "  </tbody>\n",
       "</table>\n",
       "</div>"
      ],
      "text/plain": [
       "               model    best_score  \\\n",
       "0  linear_regression -1.244003e+17   \n",
       "1              lasso  6.461642e-01   \n",
       "2      decision_tree  7.037149e-01   \n",
       "\n",
       "                                         best_params  \n",
       "0                               {'normalize': False}  \n",
       "1                {'alpha': 2, 'selection': 'cyclic'}  \n",
       "2  {'criterion': 'friedman_mse', 'splitter': 'best'}  "
      ]
     },
     "execution_count": 357,
     "metadata": {},
     "output_type": "execute_result"
    }
   ],
   "source": [
    "from sklearn.model_selection import GridSearchCV\n",
    "\n",
    "from sklearn.linear_model import Lasso\n",
    "from sklearn.tree import DecisionTreeRegressor\n",
    "\n",
    "def find_best_model_using_gridsearchcv(X,y):\n",
    "    algos = {\n",
    "        'linear_regression' : {\n",
    "            'model': LinearRegression(),\n",
    "            'params': {\n",
    "                'normalize': [True, False]\n",
    "            }\n",
    "        },\n",
    "        'lasso': {\n",
    "            'model': Lasso(),\n",
    "            'params': {\n",
    "                'alpha': [1,2],\n",
    "                'selection': ['random', 'cyclic']\n",
    "            }\n",
    "        },\n",
    "        'decision_tree': {\n",
    "            'model': DecisionTreeRegressor(),\n",
    "            'params': {\n",
    "                'criterion' : ['mse','friedman_mse'],\n",
    "                'splitter': ['best','random']\n",
    "            }\n",
    "        }\n",
    "    }\n",
    "    scores = []\n",
    "    cv = ShuffleSplit(n_splits=5, test_size=0.2, random_state=0)\n",
    "    for algo_name, config in algos.items():\n",
    "        gs =  GridSearchCV(config['model'], config['params'], cv=cv, return_train_score=False)\n",
    "        gs.fit(X,y)\n",
    "        scores.append({\n",
    "            'model': algo_name,\n",
    "            'best_score': gs.best_score_,\n",
    "            'best_params': gs.best_params_\n",
    "        })\n",
    "\n",
    "    return pd.DataFrame(scores,columns=['model','best_score','best_params'])\n",
    "\n",
    "find_best_model_using_gridsearchcv(X,y)"
   ]
  },
  {
   "cell_type": "code",
   "execution_count": 312,
   "id": "3a00f31a",
   "metadata": {},
   "outputs": [
    {
     "data": {
      "text/plain": [
       "DecisionTreeRegressor(criterion='friedman_mse', random_state=0,\n",
       "                      splitter='random')"
      ]
     },
     "execution_count": 312,
     "metadata": {},
     "output_type": "execute_result"
    }
   ],
   "source": [
    "dtr = DecisionTreeRegressor(criterion='friedman_mse', splitter='random', random_state=0)\n",
    "dtr.fit(X, y)"
   ]
  },
  {
   "cell_type": "code",
   "execution_count": 362,
   "id": "3791723f",
   "metadata": {},
   "outputs": [
    {
     "data": {
      "text/plain": [
       "(901, 86)"
      ]
     },
     "execution_count": 362,
     "metadata": {},
     "output_type": "execute_result"
    }
   ],
   "source": [
    "X.shape"
   ]
  },
  {
   "cell_type": "code",
   "execution_count": 363,
   "id": "98d23c98",
   "metadata": {},
   "outputs": [],
   "source": [
    "def predict_price(location, sqft, bedrooms, baths):\n",
    "    loc_index = np.where(X.columns==location)[0][0]\n",
    "    \n",
    "    x = np.zeros(len(X.columns))\n",
    "    x[0] = sqft\n",
    "    x[1] = baths\n",
    "    x[2] = bedrooms\n",
    "    if loc_index >= 0:\n",
    "        x[loc_index] = 1\n",
    "    return dtr.predict([x])[0]/100000"
   ]
  },
  {
   "cell_type": "code",
   "execution_count": 366,
   "id": "c2955c36",
   "metadata": {},
   "outputs": [],
   "source": [
    "def lc_predict_price(location,sqft,baths,bedrooms):    \n",
    "    loc_index = np.where(X.columns==location)[0][0]\n",
    "\n",
    "    x = np.zeros(len(X.columns))\n",
    "    x[0] = sqft\n",
    "    x[1] = baths\n",
    "    x[2] = bedrooms\n",
    "    if loc_index >= 0:\n",
    "        x[loc_index] = 1\n",
    "\n",
    "    return lr_clf.predict([x])[0]/10000"
   ]
  },
  {
   "cell_type": "code",
   "execution_count": 232,
   "id": "4d300f98",
   "metadata": {},
   "outputs": [
    {
     "data": {
      "text/plain": [
       "array(['Adiala Road', 'Al Noor Garden', 'Al Rehman Garden',\n",
       "       'Allama Iqbal Town', 'BOR - Board of Revenue Housing Society',\n",
       "       'Bahria Town', 'Bahria Town Rawalpindi', 'Bedian Road',\n",
       "       'Canal Road', 'Cantt', 'Cavalry Ground', 'Chaklala Scheme',\n",
       "       'Clifton', 'D-12', 'D-17', 'DHA 11 Rahbar', 'DHA Defence',\n",
       "       'Delhi Colony', 'Dhok Elahi Baksh', 'Dhok Kala Khan', 'E-11',\n",
       "       'Eden', 'Eden Gardens', 'Eden Villas', 'F-10', 'F-11', 'F-8',\n",
       "       'Faisal Colony', 'Federal B Area', 'Formanites Housing Scheme',\n",
       "       'G-10', 'G-11', 'G-13', 'G-15', 'G-6', 'G-9', 'Ghauri Town',\n",
       "       'Gulberg', 'Gulfishan Colony', 'Gulistan-e-Jauhar',\n",
       "       'Gulraiz Housing Scheme', 'Gulshan-e-Iqbal Town', 'Gulshan-e-Ravi',\n",
       "       'Gulzar-e-Quaid Housing Society', 'H-13', 'Hajvery Housing Scheme',\n",
       "       'Harbanspura', 'I-8', 'I-9', 'Ichhra', 'Islampura', 'Johar Town',\n",
       "       'Jubilee Town', 'Korangi', 'Lahore Medical Housing Society',\n",
       "       'Lalazar', 'Madina Town', 'Malir', 'Marghzar Officers Colony',\n",
       "       'Military Accounts Housing Society', 'Model Town', 'Muslim Town',\n",
       "       'National Police Foundation O-9', 'North Karachi',\n",
       "       'North Nazimabad', 'Pak Arab Housing Society', 'Paragon City',\n",
       "       'Punjab Govt Employees Society', 'Rehmanpura (Ferozpur Road)',\n",
       "       'Rizwan Garden Scheme', 'Sabzazar Scheme', 'Saeed Colony',\n",
       "       'Samanabad', 'Satellite Town', 'Scheme 33', 'Shah Faisal Town',\n",
       "       'Shalley Valley', 'Shershah Colony - Raiwind Road',\n",
       "       'Taj Bagh Scheme', 'Township', 'Upper Mall', 'Walton Road',\n",
       "       'other'], dtype=object)"
      ]
     },
     "execution_count": 232,
     "metadata": {},
     "output_type": "execute_result"
    }
   ],
   "source": [
    "df11.location.unique()"
   ]
  },
  {
   "cell_type": "code",
   "execution_count": 367,
   "id": "691dddf8",
   "metadata": {},
   "outputs": [
    {
     "name": "stderr",
     "output_type": "stream",
     "text": [
      "C:\\Users\\admin\\anaconda3\\lib\\site-packages\\sklearn\\base.py:450: UserWarning: X does not have valid feature names, but LinearRegression was fitted with feature names\n",
      "  warnings.warn(\n"
     ]
    },
    {
     "data": {
      "text/plain": [
       "14518.839576089087"
      ]
     },
     "execution_count": 367,
     "metadata": {},
     "output_type": "execute_result"
    }
   ],
   "source": [
    "lc_predict_price('North Nazimabad',1000, 2, 3)"
   ]
  },
  {
   "cell_type": "code",
   "execution_count": 368,
   "id": "b2e5c4c5",
   "metadata": {},
   "outputs": [
    {
     "name": "stderr",
     "output_type": "stream",
     "text": [
      "C:\\Users\\admin\\anaconda3\\lib\\site-packages\\sklearn\\base.py:450: UserWarning: X does not have valid feature names, but DecisionTreeRegressor was fitted with feature names\n",
      "  warnings.warn(\n"
     ]
    },
    {
     "data": {
      "text/plain": [
       "0.7"
      ]
     },
     "execution_count": 368,
     "metadata": {},
     "output_type": "execute_result"
    }
   ],
   "source": [
    "predict_price('North Nazimabad',1000, 2, 3)"
   ]
  },
  {
   "cell_type": "code",
   "execution_count": 369,
   "id": "8363c3bc",
   "metadata": {},
   "outputs": [
    {
     "name": "stderr",
     "output_type": "stream",
     "text": [
      "C:\\Users\\admin\\anaconda3\\lib\\site-packages\\sklearn\\base.py:450: UserWarning: X does not have valid feature names, but DecisionTreeRegressor was fitted with feature names\n",
      "  warnings.warn(\n"
     ]
    },
    {
     "data": {
      "text/plain": [
       "0.27"
      ]
     },
     "execution_count": 369,
     "metadata": {},
     "output_type": "execute_result"
    }
   ],
   "source": [
    "predict_price('Korangi',1000, 3, 3)"
   ]
  },
  {
   "cell_type": "code",
   "execution_count": 370,
   "id": "3ca5666c",
   "metadata": {},
   "outputs": [
    {
     "name": "stderr",
     "output_type": "stream",
     "text": [
      "C:\\Users\\admin\\anaconda3\\lib\\site-packages\\sklearn\\base.py:450: UserWarning: X does not have valid feature names, but LinearRegression was fitted with feature names\n",
      "  warnings.warn(\n"
     ]
    },
    {
     "data": {
      "text/plain": [
       "21730.13549005287"
      ]
     },
     "execution_count": 370,
     "metadata": {},
     "output_type": "execute_result"
    }
   ],
   "source": [
    "lc_predict_price('Korangi',1000, 3, 3)"
   ]
  },
  {
   "cell_type": "code",
   "execution_count": 338,
   "id": "a877e163",
   "metadata": {},
   "outputs": [
    {
     "name": "stderr",
     "output_type": "stream",
     "text": [
      "C:\\Users\\admin\\anaconda3\\lib\\site-packages\\sklearn\\base.py:450: UserWarning: X does not have valid feature names, but DecisionTreeRegressor was fitted with feature names\n",
      "  warnings.warn(\n"
     ]
    },
    {
     "data": {
      "text/plain": [
       "1.0"
      ]
     },
     "execution_count": 338,
     "metadata": {},
     "output_type": "execute_result"
    }
   ],
   "source": [
    "predict_price('Gulshan-e-Iqbal Town',1000, 3, 3)"
   ]
  },
  {
   "cell_type": "code",
   "execution_count": 346,
   "id": "bae4187a",
   "metadata": {},
   "outputs": [
    {
     "name": "stderr",
     "output_type": "stream",
     "text": [
      "C:\\Users\\admin\\anaconda3\\lib\\site-packages\\sklearn\\base.py:450: UserWarning: X does not have valid feature names, but DecisionTreeRegressor was fitted with feature names\n",
      "  warnings.warn(\n"
     ]
    },
    {
     "data": {
      "text/plain": [
       "0.45"
      ]
     },
     "execution_count": 346,
     "metadata": {},
     "output_type": "execute_result"
    }
   ],
   "source": [
    "predict_price('Punjab Govt Employees Society',1000, 3, 3)"
   ]
  },
  {
   "cell_type": "code",
   "execution_count": 65,
   "id": "9deb097c",
   "metadata": {},
   "outputs": [],
   "source": [
    "import pickle\n",
    "with open('banglore_home_prices_model.pickle','wb') as f:\n",
    "    pickle.dump(lr_clf,f)"
   ]
  },
  {
   "cell_type": "code",
   "execution_count": 66,
   "id": "f24e057b",
   "metadata": {},
   "outputs": [],
   "source": [
    "import json\n",
    "columns = {\n",
    "    'data_columns' : [col.lower() for col in X.columns]\n",
    "}\n",
    "with open(\"columns.json\",\"w\") as f:\n",
    "    f.write(json.dumps(columns))"
   ]
  },
  {
   "cell_type": "code",
   "execution_count": null,
   "id": "8fafc92e",
   "metadata": {},
   "outputs": [],
   "source": []
  }
 ],
 "metadata": {
  "kernelspec": {
   "display_name": "Python 3 (ipykernel)",
   "language": "python",
   "name": "python3"
  },
  "language_info": {
   "codemirror_mode": {
    "name": "ipython",
    "version": 3
   },
   "file_extension": ".py",
   "mimetype": "text/x-python",
   "name": "python",
   "nbconvert_exporter": "python",
   "pygments_lexer": "ipython3",
   "version": "3.9.13"
  }
 },
 "nbformat": 4,
 "nbformat_minor": 5
}
